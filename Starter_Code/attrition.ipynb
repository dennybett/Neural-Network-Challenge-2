{
 "cells": [
  {
   "cell_type": "markdown",
   "metadata": {
    "id": "alIIEHibGc3M"
   },
   "source": [
    "## Part 1: Preprocessing"
   ]
  },
  {
   "cell_type": "code",
   "execution_count": 32,
   "metadata": {
    "colab": {
     "base_uri": "https://localhost:8080/",
     "height": 325
    },
    "executionInfo": {
     "elapsed": 12323,
     "status": "ok",
     "timestamp": 1730699226906,
     "user": {
      "displayName": "Alexander Booth",
      "userId": "02269714993535573104"
     },
     "user_tz": 360
    },
    "id": "6eDUJ4NtGc3P",
    "outputId": "eeae54b5-3d17-442d-94ba-00dd55b89964"
   },
   "outputs": [],
   "source": [
    "# Import our dependencies\n",
    "from sklearn.model_selection import train_test_split\n",
    "from sklearn.preprocessing import StandardScaler\n",
    "import pandas as pd\n",
    "import numpy as np\n",
    "from tensorflow.keras.models import Model\n",
    "from tensorflow.keras import layers\n",
    "\n",
    "from sklearn.model_selection import train_test_split\n",
    "from sklearn.preprocessing import LabelEncoder\n",
    "from sklearn.preprocessing import OneHotEncoder\n",
    "\n"
   ]
  },
  {
   "cell_type": "code",
   "execution_count": 33,
   "metadata": {},
   "outputs": [
    {
     "data": {
      "text/html": [
       "<div>\n",
       "<style scoped>\n",
       "    .dataframe tbody tr th:only-of-type {\n",
       "        vertical-align: middle;\n",
       "    }\n",
       "\n",
       "    .dataframe tbody tr th {\n",
       "        vertical-align: top;\n",
       "    }\n",
       "\n",
       "    .dataframe thead th {\n",
       "        text-align: right;\n",
       "    }\n",
       "</style>\n",
       "<table border=\"1\" class=\"dataframe\">\n",
       "  <thead>\n",
       "    <tr style=\"text-align: right;\">\n",
       "      <th></th>\n",
       "      <th>Age</th>\n",
       "      <th>Attrition</th>\n",
       "      <th>BusinessTravel</th>\n",
       "      <th>Department</th>\n",
       "      <th>DistanceFromHome</th>\n",
       "      <th>Education</th>\n",
       "      <th>EducationField</th>\n",
       "      <th>EnvironmentSatisfaction</th>\n",
       "      <th>HourlyRate</th>\n",
       "      <th>JobInvolvement</th>\n",
       "      <th>...</th>\n",
       "      <th>PerformanceRating</th>\n",
       "      <th>RelationshipSatisfaction</th>\n",
       "      <th>StockOptionLevel</th>\n",
       "      <th>TotalWorkingYears</th>\n",
       "      <th>TrainingTimesLastYear</th>\n",
       "      <th>WorkLifeBalance</th>\n",
       "      <th>YearsAtCompany</th>\n",
       "      <th>YearsInCurrentRole</th>\n",
       "      <th>YearsSinceLastPromotion</th>\n",
       "      <th>YearsWithCurrManager</th>\n",
       "    </tr>\n",
       "  </thead>\n",
       "  <tbody>\n",
       "    <tr>\n",
       "      <th>0</th>\n",
       "      <td>41</td>\n",
       "      <td>Yes</td>\n",
       "      <td>Travel_Rarely</td>\n",
       "      <td>Sales</td>\n",
       "      <td>1</td>\n",
       "      <td>2</td>\n",
       "      <td>Life Sciences</td>\n",
       "      <td>2</td>\n",
       "      <td>94</td>\n",
       "      <td>3</td>\n",
       "      <td>...</td>\n",
       "      <td>3</td>\n",
       "      <td>1</td>\n",
       "      <td>0</td>\n",
       "      <td>8</td>\n",
       "      <td>0</td>\n",
       "      <td>1</td>\n",
       "      <td>6</td>\n",
       "      <td>4</td>\n",
       "      <td>0</td>\n",
       "      <td>5</td>\n",
       "    </tr>\n",
       "    <tr>\n",
       "      <th>1</th>\n",
       "      <td>49</td>\n",
       "      <td>No</td>\n",
       "      <td>Travel_Frequently</td>\n",
       "      <td>Research &amp; Development</td>\n",
       "      <td>8</td>\n",
       "      <td>1</td>\n",
       "      <td>Life Sciences</td>\n",
       "      <td>3</td>\n",
       "      <td>61</td>\n",
       "      <td>2</td>\n",
       "      <td>...</td>\n",
       "      <td>4</td>\n",
       "      <td>4</td>\n",
       "      <td>1</td>\n",
       "      <td>10</td>\n",
       "      <td>3</td>\n",
       "      <td>3</td>\n",
       "      <td>10</td>\n",
       "      <td>7</td>\n",
       "      <td>1</td>\n",
       "      <td>7</td>\n",
       "    </tr>\n",
       "    <tr>\n",
       "      <th>2</th>\n",
       "      <td>37</td>\n",
       "      <td>Yes</td>\n",
       "      <td>Travel_Rarely</td>\n",
       "      <td>Research &amp; Development</td>\n",
       "      <td>2</td>\n",
       "      <td>2</td>\n",
       "      <td>Other</td>\n",
       "      <td>4</td>\n",
       "      <td>92</td>\n",
       "      <td>2</td>\n",
       "      <td>...</td>\n",
       "      <td>3</td>\n",
       "      <td>2</td>\n",
       "      <td>0</td>\n",
       "      <td>7</td>\n",
       "      <td>3</td>\n",
       "      <td>3</td>\n",
       "      <td>0</td>\n",
       "      <td>0</td>\n",
       "      <td>0</td>\n",
       "      <td>0</td>\n",
       "    </tr>\n",
       "    <tr>\n",
       "      <th>3</th>\n",
       "      <td>33</td>\n",
       "      <td>No</td>\n",
       "      <td>Travel_Frequently</td>\n",
       "      <td>Research &amp; Development</td>\n",
       "      <td>3</td>\n",
       "      <td>4</td>\n",
       "      <td>Life Sciences</td>\n",
       "      <td>4</td>\n",
       "      <td>56</td>\n",
       "      <td>3</td>\n",
       "      <td>...</td>\n",
       "      <td>3</td>\n",
       "      <td>3</td>\n",
       "      <td>0</td>\n",
       "      <td>8</td>\n",
       "      <td>3</td>\n",
       "      <td>3</td>\n",
       "      <td>8</td>\n",
       "      <td>7</td>\n",
       "      <td>3</td>\n",
       "      <td>0</td>\n",
       "    </tr>\n",
       "    <tr>\n",
       "      <th>4</th>\n",
       "      <td>27</td>\n",
       "      <td>No</td>\n",
       "      <td>Travel_Rarely</td>\n",
       "      <td>Research &amp; Development</td>\n",
       "      <td>2</td>\n",
       "      <td>1</td>\n",
       "      <td>Medical</td>\n",
       "      <td>1</td>\n",
       "      <td>40</td>\n",
       "      <td>3</td>\n",
       "      <td>...</td>\n",
       "      <td>3</td>\n",
       "      <td>4</td>\n",
       "      <td>1</td>\n",
       "      <td>6</td>\n",
       "      <td>3</td>\n",
       "      <td>3</td>\n",
       "      <td>2</td>\n",
       "      <td>2</td>\n",
       "      <td>2</td>\n",
       "      <td>2</td>\n",
       "    </tr>\n",
       "  </tbody>\n",
       "</table>\n",
       "<p>5 rows × 27 columns</p>\n",
       "</div>"
      ],
      "text/plain": [
       "   Age Attrition     BusinessTravel              Department  DistanceFromHome  \\\n",
       "0   41       Yes      Travel_Rarely                   Sales                 1   \n",
       "1   49        No  Travel_Frequently  Research & Development                 8   \n",
       "2   37       Yes      Travel_Rarely  Research & Development                 2   \n",
       "3   33        No  Travel_Frequently  Research & Development                 3   \n",
       "4   27        No      Travel_Rarely  Research & Development                 2   \n",
       "\n",
       "   Education EducationField  EnvironmentSatisfaction  HourlyRate  \\\n",
       "0          2  Life Sciences                        2          94   \n",
       "1          1  Life Sciences                        3          61   \n",
       "2          2          Other                        4          92   \n",
       "3          4  Life Sciences                        4          56   \n",
       "4          1        Medical                        1          40   \n",
       "\n",
       "   JobInvolvement  ...  PerformanceRating RelationshipSatisfaction  \\\n",
       "0               3  ...                  3                        1   \n",
       "1               2  ...                  4                        4   \n",
       "2               2  ...                  3                        2   \n",
       "3               3  ...                  3                        3   \n",
       "4               3  ...                  3                        4   \n",
       "\n",
       "   StockOptionLevel TotalWorkingYears  TrainingTimesLastYear WorkLifeBalance  \\\n",
       "0                 0                 8                      0               1   \n",
       "1                 1                10                      3               3   \n",
       "2                 0                 7                      3               3   \n",
       "3                 0                 8                      3               3   \n",
       "4                 1                 6                      3               3   \n",
       "\n",
       "   YearsAtCompany  YearsInCurrentRole  YearsSinceLastPromotion  \\\n",
       "0               6                   4                        0   \n",
       "1              10                   7                        1   \n",
       "2               0                   0                        0   \n",
       "3               8                   7                        3   \n",
       "4               2                   2                        2   \n",
       "\n",
       "   YearsWithCurrManager  \n",
       "0                     5  \n",
       "1                     7  \n",
       "2                     0  \n",
       "3                     0  \n",
       "4                     2  \n",
       "\n",
       "[5 rows x 27 columns]"
      ]
     },
     "execution_count": 33,
     "metadata": {},
     "output_type": "execute_result"
    }
   ],
   "source": [
    "\n",
    "#  Import and read the attrition data\n",
    "attrition_df = pd.read_csv('https://static.bc-edx.com/ai/ail-v-1-0/m19/lms/datasets/attrition.csv')\n",
    "attrition_df.head()"
   ]
  },
  {
   "cell_type": "code",
   "execution_count": 34,
   "metadata": {
    "colab": {
     "base_uri": "https://localhost:8080/",
     "height": 930
    },
    "executionInfo": {
     "elapsed": 10,
     "status": "ok",
     "timestamp": 1730699226906,
     "user": {
      "displayName": "Alexander Booth",
      "userId": "02269714993535573104"
     },
     "user_tz": 360
    },
    "id": "g22aQSY4Gc3Q",
    "outputId": "e8b68509-45d8-42e0-a9db-1bdce48e4b2d"
   },
   "outputs": [
    {
     "data": {
      "text/plain": [
       "Age                         43\n",
       "Attrition                    2\n",
       "BusinessTravel               3\n",
       "Department                   3\n",
       "DistanceFromHome            29\n",
       "Education                    5\n",
       "EducationField               6\n",
       "EnvironmentSatisfaction      4\n",
       "HourlyRate                  71\n",
       "JobInvolvement               4\n",
       "JobLevel                     5\n",
       "JobRole                      9\n",
       "JobSatisfaction              4\n",
       "MaritalStatus                3\n",
       "NumCompaniesWorked          10\n",
       "OverTime                     2\n",
       "PercentSalaryHike           15\n",
       "PerformanceRating            2\n",
       "RelationshipSatisfaction     4\n",
       "StockOptionLevel             4\n",
       "TotalWorkingYears           40\n",
       "TrainingTimesLastYear        7\n",
       "WorkLifeBalance              4\n",
       "YearsAtCompany              37\n",
       "YearsInCurrentRole          19\n",
       "YearsSinceLastPromotion     16\n",
       "YearsWithCurrManager        18\n",
       "dtype: int64"
      ]
     },
     "execution_count": 34,
     "metadata": {},
     "output_type": "execute_result"
    }
   ],
   "source": [
    "# Determine the number of unique values in each column\n",
    "attrition_df.nunique()"
   ]
  },
  {
   "cell_type": "code",
   "execution_count": 35,
   "metadata": {
    "executionInfo": {
     "elapsed": 7,
     "status": "ok",
     "timestamp": 1730699226906,
     "user": {
      "displayName": "Alexander Booth",
      "userId": "02269714993535573104"
     },
     "user_tz": 360
    },
    "id": "50vMgBEnJbfM"
   },
   "outputs": [
    {
     "data": {
      "text/html": [
       "<div>\n",
       "<style scoped>\n",
       "    .dataframe tbody tr th:only-of-type {\n",
       "        vertical-align: middle;\n",
       "    }\n",
       "\n",
       "    .dataframe tbody tr th {\n",
       "        vertical-align: top;\n",
       "    }\n",
       "\n",
       "    .dataframe thead th {\n",
       "        text-align: right;\n",
       "    }\n",
       "</style>\n",
       "<table border=\"1\" class=\"dataframe\">\n",
       "  <thead>\n",
       "    <tr style=\"text-align: right;\">\n",
       "      <th></th>\n",
       "      <th>Attrition</th>\n",
       "      <th>Department</th>\n",
       "    </tr>\n",
       "  </thead>\n",
       "  <tbody>\n",
       "    <tr>\n",
       "      <th>0</th>\n",
       "      <td>Yes</td>\n",
       "      <td>Sales</td>\n",
       "    </tr>\n",
       "    <tr>\n",
       "      <th>1</th>\n",
       "      <td>No</td>\n",
       "      <td>Research &amp; Development</td>\n",
       "    </tr>\n",
       "    <tr>\n",
       "      <th>2</th>\n",
       "      <td>Yes</td>\n",
       "      <td>Research &amp; Development</td>\n",
       "    </tr>\n",
       "    <tr>\n",
       "      <th>3</th>\n",
       "      <td>No</td>\n",
       "      <td>Research &amp; Development</td>\n",
       "    </tr>\n",
       "    <tr>\n",
       "      <th>4</th>\n",
       "      <td>No</td>\n",
       "      <td>Research &amp; Development</td>\n",
       "    </tr>\n",
       "  </tbody>\n",
       "</table>\n",
       "</div>"
      ],
      "text/plain": [
       "  Attrition              Department\n",
       "0       Yes                   Sales\n",
       "1        No  Research & Development\n",
       "2       Yes  Research & Development\n",
       "3        No  Research & Development\n",
       "4        No  Research & Development"
      ]
     },
     "execution_count": 35,
     "metadata": {},
     "output_type": "execute_result"
    }
   ],
   "source": [
    "# Create y_df with the Attrition and Department columns\n",
    "y_df = attrition_df[['Attrition', 'Department']]\n",
    "y_df.head()"
   ]
  },
  {
   "cell_type": "code",
   "execution_count": 36,
   "metadata": {},
   "outputs": [
    {
     "data": {
      "text/plain": [
       "Education                   int64\n",
       "Age                         int64\n",
       "DistanceFromHome            int64\n",
       "JobSatisfaction             int64\n",
       "OverTime                   object\n",
       "StockOptionLevel            int64\n",
       "WorkLifeBalance             int64\n",
       "YearsAtCompany              int64\n",
       "YearsSinceLastPromotion     int64\n",
       "NumCompaniesWorked          int64\n",
       "dtype: object"
      ]
     },
     "execution_count": 36,
     "metadata": {},
     "output_type": "execute_result"
    }
   ],
   "source": [
    "# Create a list of at least 10 column names to use as X data\n",
    "columns_list = ['Education', 'Age', 'DistanceFromHome','JobSatisfaction',\n",
    "                'OverTime', 'StockOptionLevel', 'WorkLifeBalance',\n",
    "                'YearsAtCompany', 'YearsSinceLastPromotion', 'NumCompaniesWorked']\n",
    "\n",
    "# Create X_df using your selected columns\n",
    "X_df = attrition_df[columns_list]\n",
    "\n",
    "# Show the data types for X_df\n",
    "X_df.dtypes"
   ]
  },
  {
   "cell_type": "code",
   "execution_count": 38,
   "metadata": {},
   "outputs": [],
   "source": [
    "# Split the data into training and testing sets\n",
    "X_train, X_test, y_train, y_test = train_test_split(X_df, y_df, random_state=7)"
   ]
  },
  {
   "cell_type": "code",
   "execution_count": 39,
   "metadata": {},
   "outputs": [
    {
     "data": {
      "text/plain": [
       "Education                   int64\n",
       "Age                         int64\n",
       "DistanceFromHome            int64\n",
       "JobSatisfaction             int64\n",
       "OverTime                   object\n",
       "StockOptionLevel            int64\n",
       "WorkLifeBalance             int64\n",
       "YearsAtCompany              int64\n",
       "YearsSinceLastPromotion     int64\n",
       "NumCompaniesWorked          int64\n",
       "dtype: object"
      ]
     },
     "metadata": {},
     "output_type": "display_data"
    },
    {
     "data": {
      "text/plain": [
       "Education                   int64\n",
       "Age                         int64\n",
       "DistanceFromHome            int64\n",
       "JobSatisfaction             int64\n",
       "OverTime                   object\n",
       "StockOptionLevel            int64\n",
       "WorkLifeBalance             int64\n",
       "YearsAtCompany              int64\n",
       "YearsSinceLastPromotion     int64\n",
       "NumCompaniesWorked          int64\n",
       "dtype: object"
      ]
     },
     "execution_count": 39,
     "metadata": {},
     "output_type": "execute_result"
    }
   ],
   "source": [
    "# Convert your X data to numeric data types however you see fit\n",
    "# Add new code cells as necessary\n",
    "display(X_train.dtypes)\n",
    "X_test.dtypes\n"
   ]
  },
  {
   "cell_type": "code",
   "execution_count": 40,
   "metadata": {},
   "outputs": [
    {
     "name": "stdout",
     "output_type": "stream",
     "text": [
      "0\n"
     ]
    }
   ],
   "source": [
    "# Checking for null values\n",
    "nulls = X_train['OverTime'].isna().sum()\n",
    "print(nulls)"
   ]
  },
  {
   "cell_type": "code",
   "execution_count": 41,
   "metadata": {},
   "outputs": [
    {
     "name": "stdout",
     "output_type": "stream",
     "text": [
      "0\n"
     ]
    }
   ],
   "source": [
    "nulls_test = X_test['OverTime'].isna().sum()\n",
    "print(nulls_test)"
   ]
  },
  {
   "cell_type": "code",
   "execution_count": 42,
   "metadata": {},
   "outputs": [
    {
     "name": "stdout",
     "output_type": "stream",
     "text": [
      "Unique values in X_train['OverTime']: ['Yes' 'No']\n",
      "Unique values in X_test['OverTime']: ['No' 'Yes']\n"
     ]
    }
   ],
   "source": [
    "# Checking for unique values in both the train and test datasets\n",
    "print(\"Unique values in X_train['OverTime']:\", X_train['OverTime'].unique())\n",
    "print(\"Unique values in X_test['OverTime']:\", X_test['OverTime'].unique())"
   ]
  },
  {
   "cell_type": "code",
   "execution_count": 43,
   "metadata": {},
   "outputs": [
    {
     "data": {
      "text/plain": [
       "OverTime\n",
       "0.0    789\n",
       "1.0    313\n",
       "Name: count, dtype: int64"
      ]
     },
     "metadata": {},
     "output_type": "display_data"
    },
    {
     "data": {
      "text/plain": [
       "OverTime\n",
       "0.0    265\n",
       "1.0    103\n",
       "Name: count, dtype: int64"
      ]
     },
     "metadata": {},
     "output_type": "display_data"
    }
   ],
   "source": [
    "# Using the OneHotEncoder on the object column.\n",
    "encoder = OneHotEncoder(sparse_output=False, drop='first')\n",
    "X_train['OverTime'] = encoder.fit_transform(X_train[['OverTime']])\n",
    "display(X_train['OverTime'].value_counts())\n",
    "\n",
    "# Transforming the Overtime column on the X_test dataset. \n",
    "X_test['OverTime'] = encoder.transform(X_test[['OverTime']])\n",
    "display(X_test['OverTime'].value_counts())"
   ]
  },
  {
   "cell_type": "code",
   "execution_count": 45,
   "metadata": {},
   "outputs": [
    {
     "data": {
      "text/plain": [
       "array([[-0.89593832,  0.32212245, -0.15544147,  1.17224457,  1.58769228,\n",
       "        -0.93200983,  0.33713488, -0.8086699 , -0.04658669,  0.12990505],\n",
       "       [ 2.03380657, -1.09430673, -0.15544147,  0.26887847, -0.62984497,\n",
       "         2.58536973,  0.33713488, -0.64705324, -0.35962653, -0.6720858 ],\n",
       "       [ 0.08064331,  0.10421027, -0.40050083,  1.17224457,  1.58769228,\n",
       "         2.58536973,  0.33713488,  0.96911329, -0.35962653,  1.73388676],\n",
       "       [ 0.08064331, -0.00474582, -0.76808988,  1.17224457, -0.62984497,\n",
       "        -0.93200983,  0.33713488, -0.32381994, -0.35962653, -0.27109037],\n",
       "       [-0.89593832, -0.222658  , -0.27797115,  1.17224457, -0.62984497,\n",
       "         0.24045002, -1.07549873, -0.97028655, -0.67266636, -0.6720858 ]])"
      ]
     },
     "metadata": {},
     "output_type": "display_data"
    },
    {
     "data": {
      "text/plain": [
       "array([[ 0.08064331, -0.87639454, -0.89061956, -0.63448762, -0.62984497,\n",
       "         0.24045002,  0.33713488, -0.32381994, -0.67266636, -1.07308123],\n",
       "       [-0.89593832, -0.65848236,  2.41768186, -0.63448762, -0.62984497,\n",
       "        -0.93200983,  1.7497685 , -0.32381994, -0.35962653, -1.07308123],\n",
       "       [ 0.08064331, -0.44057018, -0.52303051,  0.26887847,  1.58769228,\n",
       "        -0.93200983,  0.33713488, -0.97028655, -0.67266636, -0.6720858 ],\n",
       "       [ 0.08064331, -0.44057018,  0.57973663, -0.63448762, -0.62984497,\n",
       "         0.24045002,  0.33713488,  0.16103002, -0.35962653, -0.6720858 ],\n",
       "       [ 1.05722494, -0.33161409, -1.01314924, -1.53785371, -0.62984497,\n",
       "         1.41290988,  0.33713488, -0.48543659, -0.35962653,  0.9318959 ]])"
      ]
     },
     "execution_count": 45,
     "metadata": {},
     "output_type": "execute_result"
    }
   ],
   "source": [
    "# Create a StandardScaler\n",
    "scaler = StandardScaler()\n",
    "\n",
    "# Fit the StandardScaler to the training data\n",
    "scaler.fit(X_train)\n",
    "\n",
    "# Scale the training and testing data\n",
    "X_train_scaled = scaler.transform(X_train)\n",
    "X_test_scaled = scaler.transform(X_test)\n",
    "\n",
    "display(X_train_scaled[:5])\n",
    "X_test_scaled[:5]"
   ]
  },
  {
   "cell_type": "code",
   "execution_count": 46,
   "metadata": {},
   "outputs": [
    {
     "data": {
      "text/plain": [
       "array([[0., 1., 0.],\n",
       "       [0., 1., 0.],\n",
       "       [0., 1., 0.],\n",
       "       [0., 0., 1.],\n",
       "       [0., 1., 0.]])"
      ]
     },
     "metadata": {},
     "output_type": "display_data"
    },
    {
     "data": {
      "text/plain": [
       "array([[0., 1., 0.],\n",
       "       [0., 1., 0.],\n",
       "       [0., 0., 1.],\n",
       "       [0., 1., 0.],\n",
       "       [0., 1., 0.]])"
      ]
     },
     "execution_count": 46,
     "metadata": {},
     "output_type": "execute_result"
    }
   ],
   "source": [
    "# Create a OneHotEncoder for the Department column\n",
    "oh_encoder_dept = OneHotEncoder(sparse_output=False, drop=None, handle_unknown='ignore')\n",
    "\n",
    "# Fit the encoder to the training data\n",
    "oh_encoder_dept.fit(y_train[['Department']])\n",
    "\n",
    "# Create two new variables by applying the encoder\n",
    "# to the training and testing data\n",
    "y_department_train = oh_encoder_dept.transform(y_train[['Department']])\n",
    "y_department_test = oh_encoder_dept.transform(y_test[['Department']])\n",
    "\n",
    "display(y_department_train[:5])\n",
    "y_department_test[:5]\n",
    "\n"
   ]
  },
  {
   "cell_type": "code",
   "execution_count": 47,
   "metadata": {},
   "outputs": [
    {
     "data": {
      "text/plain": [
       "array([[1., 0.],\n",
       "       [1., 0.],\n",
       "       [1., 0.],\n",
       "       [1., 0.],\n",
       "       [1., 0.]])"
      ]
     },
     "metadata": {},
     "output_type": "display_data"
    },
    {
     "data": {
      "text/plain": [
       "array([[1., 0.],\n",
       "       [0., 1.],\n",
       "       [0., 1.],\n",
       "       [1., 0.],\n",
       "       [1., 0.]])"
      ]
     },
     "execution_count": 47,
     "metadata": {},
     "output_type": "execute_result"
    }
   ],
   "source": [
    "# Create a OneHotEncoder for the Attrition column\n",
    "oh_encoder_attr = OneHotEncoder(sparse_output=False, handle_unknown='ignore')\n",
    "\n",
    "# Fit the encoder to the training data\n",
    "oh_encoder_attr.fit(y_train[['Attrition']])\n",
    "\n",
    "# Create two new variables by applying the encoder\n",
    "# to the training and testing data\n",
    "y_attrition_train = oh_encoder_attr.transform(y_train[['Attrition']])\n",
    "y_attrition_test = oh_encoder_attr.transform(y_test[['Attrition']])\n",
    "\n",
    "display(y_attrition_train[:5])\n",
    "y_attrition_test[:5]"
   ]
  },
  {
   "cell_type": "markdown",
   "metadata": {
    "id": "ykNmu_WWGc3T"
   },
   "source": [
    "## Part 2: Create, Compile, and Train the Model"
   ]
  },
  {
   "cell_type": "code",
   "execution_count": 48,
   "metadata": {
    "executionInfo": {
     "elapsed": 309,
     "status": "ok",
     "timestamp": 1730699227563,
     "user": {
      "displayName": "Alexander Booth",
      "userId": "02269714993535573104"
     },
     "user_tz": 360
    },
    "id": "WUptZqmSGc3T"
   },
   "outputs": [],
   "source": [
    "# Find the number of columns in the X training data.\n",
    "input_columns = len(X_train.columns)\n",
    "\n",
    "# Create the input layer\n",
    "input_layer = layers.Input(shape=(input_columns,), name='input_layer')\n",
    "\n",
    "# Create at least two shared layers\n",
    "shared1 = layers.Dense(64, activation='relu', name='shared1')(input_layer)\n",
    "shared2 = layers.Dense(128, activation='relu', name='shared2')(shared1)\n"
   ]
  },
  {
   "cell_type": "code",
   "execution_count": 49,
   "metadata": {
    "executionInfo": {
     "elapsed": 118,
     "status": "ok",
     "timestamp": 1730699227678,
     "user": {
      "displayName": "Alexander Booth",
      "userId": "02269714993535573104"
     },
     "user_tz": 360
    },
    "id": "JukjTm2yTEqd"
   },
   "outputs": [],
   "source": [
    "# Create a branch for Department\n",
    "# with a hidden layer and an output layer\n",
    "\n",
    "# Create the hidden layer\n",
    "department_hidden = layers.Dense(32, activation='relu', name='department_hidden')(shared2)\n",
    "\n",
    "# Create the output layer\n",
    "department_output = layers.Dense(3, activation='softmax', name='department_output')(department_hidden)"
   ]
  },
  {
   "cell_type": "code",
   "execution_count": 50,
   "metadata": {
    "executionInfo": {
     "elapsed": 9,
     "status": "ok",
     "timestamp": 1730699227679,
     "user": {
      "displayName": "Alexander Booth",
      "userId": "02269714993535573104"
     },
     "user_tz": 360
    },
    "id": "9OqhUiOJUBkR"
   },
   "outputs": [],
   "source": [
    "# Create a branch for Attrition\n",
    "# with a hidden layer and an output layer\n",
    "\n",
    "# Create the hidden layer\n",
    "attrition_hidden = layers.Dense(32, activation='relu', name='attrition_hidden')(shared2)\n",
    "\n",
    "# Create the output layer\n",
    "attrition_output = layers.Dense(2, activation='sigmoid', name='attrition_output')(attrition_hidden)"
   ]
  },
  {
   "cell_type": "code",
   "execution_count": 51,
   "metadata": {},
   "outputs": [
    {
     "data": {
      "text/html": [
       "<pre style=\"white-space:pre;overflow-x:auto;line-height:normal;font-family:Menlo,'DejaVu Sans Mono',consolas,'Courier New',monospace\"><span style=\"font-weight: bold\">Model: \"functional_1\"</span>\n",
       "</pre>\n"
      ],
      "text/plain": [
       "\u001b[1mModel: \"functional_1\"\u001b[0m\n"
      ]
     },
     "metadata": {},
     "output_type": "display_data"
    },
    {
     "data": {
      "text/html": [
       "<pre style=\"white-space:pre;overflow-x:auto;line-height:normal;font-family:Menlo,'DejaVu Sans Mono',consolas,'Courier New',monospace\">┏━━━━━━━━━━━━━━━━━━━━━┳━━━━━━━━━━━━━━━━━━━┳━━━━━━━━━━━━┳━━━━━━━━━━━━━━━━━━━┓\n",
       "┃<span style=\"font-weight: bold\"> Layer (type)        </span>┃<span style=\"font-weight: bold\"> Output Shape      </span>┃<span style=\"font-weight: bold\">    Param # </span>┃<span style=\"font-weight: bold\"> Connected to      </span>┃\n",
       "┡━━━━━━━━━━━━━━━━━━━━━╇━━━━━━━━━━━━━━━━━━━╇━━━━━━━━━━━━╇━━━━━━━━━━━━━━━━━━━┩\n",
       "│ input_layer         │ (<span style=\"color: #00d7ff; text-decoration-color: #00d7ff\">None</span>, <span style=\"color: #00af00; text-decoration-color: #00af00\">10</span>)        │          <span style=\"color: #00af00; text-decoration-color: #00af00\">0</span> │ -                 │\n",
       "│ (<span style=\"color: #0087ff; text-decoration-color: #0087ff\">InputLayer</span>)        │                   │            │                   │\n",
       "├─────────────────────┼───────────────────┼────────────┼───────────────────┤\n",
       "│ shared1 (<span style=\"color: #0087ff; text-decoration-color: #0087ff\">Dense</span>)     │ (<span style=\"color: #00d7ff; text-decoration-color: #00d7ff\">None</span>, <span style=\"color: #00af00; text-decoration-color: #00af00\">64</span>)        │        <span style=\"color: #00af00; text-decoration-color: #00af00\">704</span> │ input_layer[<span style=\"color: #00af00; text-decoration-color: #00af00\">0</span>][<span style=\"color: #00af00; text-decoration-color: #00af00\">0</span>] │\n",
       "├─────────────────────┼───────────────────┼────────────┼───────────────────┤\n",
       "│ shared2 (<span style=\"color: #0087ff; text-decoration-color: #0087ff\">Dense</span>)     │ (<span style=\"color: #00d7ff; text-decoration-color: #00d7ff\">None</span>, <span style=\"color: #00af00; text-decoration-color: #00af00\">128</span>)       │      <span style=\"color: #00af00; text-decoration-color: #00af00\">8,320</span> │ shared1[<span style=\"color: #00af00; text-decoration-color: #00af00\">0</span>][<span style=\"color: #00af00; text-decoration-color: #00af00\">0</span>]     │\n",
       "├─────────────────────┼───────────────────┼────────────┼───────────────────┤\n",
       "│ attrition_hidden    │ (<span style=\"color: #00d7ff; text-decoration-color: #00d7ff\">None</span>, <span style=\"color: #00af00; text-decoration-color: #00af00\">32</span>)        │      <span style=\"color: #00af00; text-decoration-color: #00af00\">4,128</span> │ shared2[<span style=\"color: #00af00; text-decoration-color: #00af00\">0</span>][<span style=\"color: #00af00; text-decoration-color: #00af00\">0</span>]     │\n",
       "│ (<span style=\"color: #0087ff; text-decoration-color: #0087ff\">Dense</span>)             │                   │            │                   │\n",
       "├─────────────────────┼───────────────────┼────────────┼───────────────────┤\n",
       "│ department_hidden   │ (<span style=\"color: #00d7ff; text-decoration-color: #00d7ff\">None</span>, <span style=\"color: #00af00; text-decoration-color: #00af00\">32</span>)        │      <span style=\"color: #00af00; text-decoration-color: #00af00\">4,128</span> │ shared2[<span style=\"color: #00af00; text-decoration-color: #00af00\">0</span>][<span style=\"color: #00af00; text-decoration-color: #00af00\">0</span>]     │\n",
       "│ (<span style=\"color: #0087ff; text-decoration-color: #0087ff\">Dense</span>)             │                   │            │                   │\n",
       "├─────────────────────┼───────────────────┼────────────┼───────────────────┤\n",
       "│ attrition_output    │ (<span style=\"color: #00d7ff; text-decoration-color: #00d7ff\">None</span>, <span style=\"color: #00af00; text-decoration-color: #00af00\">2</span>)         │         <span style=\"color: #00af00; text-decoration-color: #00af00\">66</span> │ attrition_hidden… │\n",
       "│ (<span style=\"color: #0087ff; text-decoration-color: #0087ff\">Dense</span>)             │                   │            │                   │\n",
       "├─────────────────────┼───────────────────┼────────────┼───────────────────┤\n",
       "│ department_output   │ (<span style=\"color: #00d7ff; text-decoration-color: #00d7ff\">None</span>, <span style=\"color: #00af00; text-decoration-color: #00af00\">3</span>)         │         <span style=\"color: #00af00; text-decoration-color: #00af00\">99</span> │ department_hidde… │\n",
       "│ (<span style=\"color: #0087ff; text-decoration-color: #0087ff\">Dense</span>)             │                   │            │                   │\n",
       "└─────────────────────┴───────────────────┴────────────┴───────────────────┘\n",
       "</pre>\n"
      ],
      "text/plain": [
       "┏━━━━━━━━━━━━━━━━━━━━━┳━━━━━━━━━━━━━━━━━━━┳━━━━━━━━━━━━┳━━━━━━━━━━━━━━━━━━━┓\n",
       "┃\u001b[1m \u001b[0m\u001b[1mLayer (type)       \u001b[0m\u001b[1m \u001b[0m┃\u001b[1m \u001b[0m\u001b[1mOutput Shape     \u001b[0m\u001b[1m \u001b[0m┃\u001b[1m \u001b[0m\u001b[1m   Param #\u001b[0m\u001b[1m \u001b[0m┃\u001b[1m \u001b[0m\u001b[1mConnected to     \u001b[0m\u001b[1m \u001b[0m┃\n",
       "┡━━━━━━━━━━━━━━━━━━━━━╇━━━━━━━━━━━━━━━━━━━╇━━━━━━━━━━━━╇━━━━━━━━━━━━━━━━━━━┩\n",
       "│ input_layer         │ (\u001b[38;5;45mNone\u001b[0m, \u001b[38;5;34m10\u001b[0m)        │          \u001b[38;5;34m0\u001b[0m │ -                 │\n",
       "│ (\u001b[38;5;33mInputLayer\u001b[0m)        │                   │            │                   │\n",
       "├─────────────────────┼───────────────────┼────────────┼───────────────────┤\n",
       "│ shared1 (\u001b[38;5;33mDense\u001b[0m)     │ (\u001b[38;5;45mNone\u001b[0m, \u001b[38;5;34m64\u001b[0m)        │        \u001b[38;5;34m704\u001b[0m │ input_layer[\u001b[38;5;34m0\u001b[0m][\u001b[38;5;34m0\u001b[0m] │\n",
       "├─────────────────────┼───────────────────┼────────────┼───────────────────┤\n",
       "│ shared2 (\u001b[38;5;33mDense\u001b[0m)     │ (\u001b[38;5;45mNone\u001b[0m, \u001b[38;5;34m128\u001b[0m)       │      \u001b[38;5;34m8,320\u001b[0m │ shared1[\u001b[38;5;34m0\u001b[0m][\u001b[38;5;34m0\u001b[0m]     │\n",
       "├─────────────────────┼───────────────────┼────────────┼───────────────────┤\n",
       "│ attrition_hidden    │ (\u001b[38;5;45mNone\u001b[0m, \u001b[38;5;34m32\u001b[0m)        │      \u001b[38;5;34m4,128\u001b[0m │ shared2[\u001b[38;5;34m0\u001b[0m][\u001b[38;5;34m0\u001b[0m]     │\n",
       "│ (\u001b[38;5;33mDense\u001b[0m)             │                   │            │                   │\n",
       "├─────────────────────┼───────────────────┼────────────┼───────────────────┤\n",
       "│ department_hidden   │ (\u001b[38;5;45mNone\u001b[0m, \u001b[38;5;34m32\u001b[0m)        │      \u001b[38;5;34m4,128\u001b[0m │ shared2[\u001b[38;5;34m0\u001b[0m][\u001b[38;5;34m0\u001b[0m]     │\n",
       "│ (\u001b[38;5;33mDense\u001b[0m)             │                   │            │                   │\n",
       "├─────────────────────┼───────────────────┼────────────┼───────────────────┤\n",
       "│ attrition_output    │ (\u001b[38;5;45mNone\u001b[0m, \u001b[38;5;34m2\u001b[0m)         │         \u001b[38;5;34m66\u001b[0m │ attrition_hidden… │\n",
       "│ (\u001b[38;5;33mDense\u001b[0m)             │                   │            │                   │\n",
       "├─────────────────────┼───────────────────┼────────────┼───────────────────┤\n",
       "│ department_output   │ (\u001b[38;5;45mNone\u001b[0m, \u001b[38;5;34m3\u001b[0m)         │         \u001b[38;5;34m99\u001b[0m │ department_hidde… │\n",
       "│ (\u001b[38;5;33mDense\u001b[0m)             │                   │            │                   │\n",
       "└─────────────────────┴───────────────────┴────────────┴───────────────────┘\n"
      ]
     },
     "metadata": {},
     "output_type": "display_data"
    },
    {
     "data": {
      "text/html": [
       "<pre style=\"white-space:pre;overflow-x:auto;line-height:normal;font-family:Menlo,'DejaVu Sans Mono',consolas,'Courier New',monospace\"><span style=\"font-weight: bold\"> Total params: </span><span style=\"color: #00af00; text-decoration-color: #00af00\">17,445</span> (68.14 KB)\n",
       "</pre>\n"
      ],
      "text/plain": [
       "\u001b[1m Total params: \u001b[0m\u001b[38;5;34m17,445\u001b[0m (68.14 KB)\n"
      ]
     },
     "metadata": {},
     "output_type": "display_data"
    },
    {
     "data": {
      "text/html": [
       "<pre style=\"white-space:pre;overflow-x:auto;line-height:normal;font-family:Menlo,'DejaVu Sans Mono',consolas,'Courier New',monospace\"><span style=\"font-weight: bold\"> Trainable params: </span><span style=\"color: #00af00; text-decoration-color: #00af00\">17,445</span> (68.14 KB)\n",
       "</pre>\n"
      ],
      "text/plain": [
       "\u001b[1m Trainable params: \u001b[0m\u001b[38;5;34m17,445\u001b[0m (68.14 KB)\n"
      ]
     },
     "metadata": {},
     "output_type": "display_data"
    },
    {
     "data": {
      "text/html": [
       "<pre style=\"white-space:pre;overflow-x:auto;line-height:normal;font-family:Menlo,'DejaVu Sans Mono',consolas,'Courier New',monospace\"><span style=\"font-weight: bold\"> Non-trainable params: </span><span style=\"color: #00af00; text-decoration-color: #00af00\">0</span> (0.00 B)\n",
       "</pre>\n"
      ],
      "text/plain": [
       "\u001b[1m Non-trainable params: \u001b[0m\u001b[38;5;34m0\u001b[0m (0.00 B)\n"
      ]
     },
     "metadata": {},
     "output_type": "display_data"
    }
   ],
   "source": [
    "# Create the model\n",
    "nn_model = Model(inputs=input_layer, outputs=[attrition_output, department_output])\n",
    "\n",
    "# Compile the model\n",
    "nn_model.compile(optimizer='adam', loss={'department_output' : 'categorical_crossentropy',\n",
    "                                    'attrition_output' : 'binary_crossentropy'},\n",
    "                                   metrics={'department_output' : 'accuracy',\n",
    "                                    'attrition_output' : 'accuracy'})\n",
    "\n",
    "# Summarize the model\n",
    "nn_model.summary()"
   ]
  },
  {
   "cell_type": "code",
   "execution_count": 52,
   "metadata": {},
   "outputs": [
    {
     "name": "stdout",
     "output_type": "stream",
     "text": [
      "Epoch 1/100\n",
      "\u001b[1m28/28\u001b[0m \u001b[32m━━━━━━━━━━━━━━━━━━━━\u001b[0m\u001b[37m\u001b[0m \u001b[1m4s\u001b[0m 27ms/step - attrition_output_accuracy: 0.8337 - attrition_output_loss: 0.5773 - department_output_accuracy: 0.3864 - department_output_loss: 1.0748 - loss: 1.6515 - val_attrition_output_accuracy: 0.8552 - val_attrition_output_loss: 0.4134 - val_department_output_accuracy: 0.6606 - val_department_output_loss: 0.8038 - val_loss: 1.2185\n",
      "Epoch 2/100\n",
      "\u001b[1m28/28\u001b[0m \u001b[32m━━━━━━━━━━━━━━━━━━━━\u001b[0m\u001b[37m\u001b[0m \u001b[1m0s\u001b[0m 8ms/step - attrition_output_accuracy: 0.8277 - attrition_output_loss: 0.4458 - department_output_accuracy: 0.6354 - department_output_loss: 0.8144 - loss: 1.2603 - val_attrition_output_accuracy: 0.8552 - val_attrition_output_loss: 0.3752 - val_department_output_accuracy: 0.6606 - val_department_output_loss: 0.8010 - val_loss: 1.1774\n",
      "Epoch 3/100\n",
      "\u001b[1m28/28\u001b[0m \u001b[32m━━━━━━━━━━━━━━━━━━━━\u001b[0m\u001b[37m\u001b[0m \u001b[1m0s\u001b[0m 10ms/step - attrition_output_accuracy: 0.8366 - attrition_output_loss: 0.3843 - department_output_accuracy: 0.6469 - department_output_loss: 0.7945 - loss: 1.1789 - val_attrition_output_accuracy: 0.8643 - val_attrition_output_loss: 0.3581 - val_department_output_accuracy: 0.6606 - val_department_output_loss: 0.8060 - val_loss: 1.1650\n",
      "Epoch 4/100\n",
      "\u001b[1m28/28\u001b[0m \u001b[32m━━━━━━━━━━━━━━━━━━━━\u001b[0m\u001b[37m\u001b[0m \u001b[1m0s\u001b[0m 9ms/step - attrition_output_accuracy: 0.8426 - attrition_output_loss: 0.3676 - department_output_accuracy: 0.6224 - department_output_loss: 0.8000 - loss: 1.1677 - val_attrition_output_accuracy: 0.8688 - val_attrition_output_loss: 0.3517 - val_department_output_accuracy: 0.6606 - val_department_output_loss: 0.7941 - val_loss: 1.1470\n",
      "Epoch 5/100\n",
      "\u001b[1m28/28\u001b[0m \u001b[32m━━━━━━━━━━━━━━━━━━━━\u001b[0m\u001b[37m\u001b[0m \u001b[1m0s\u001b[0m 8ms/step - attrition_output_accuracy: 0.8478 - attrition_output_loss: 0.4096 - department_output_accuracy: 0.6423 - department_output_loss: 0.7583 - loss: 1.1680 - val_attrition_output_accuracy: 0.8778 - val_attrition_output_loss: 0.3453 - val_department_output_accuracy: 0.6606 - val_department_output_loss: 0.7977 - val_loss: 1.1438\n",
      "Epoch 6/100\n",
      "\u001b[1m28/28\u001b[0m \u001b[32m━━━━━━━━━━━━━━━━━━━━\u001b[0m\u001b[37m\u001b[0m \u001b[1m0s\u001b[0m 8ms/step - attrition_output_accuracy: 0.8521 - attrition_output_loss: 0.3564 - department_output_accuracy: 0.6402 - department_output_loss: 0.7736 - loss: 1.1300 - val_attrition_output_accuracy: 0.8778 - val_attrition_output_loss: 0.3416 - val_department_output_accuracy: 0.6606 - val_department_output_loss: 0.7964 - val_loss: 1.1390\n",
      "Epoch 7/100\n",
      "\u001b[1m28/28\u001b[0m \u001b[32m━━━━━━━━━━━━━━━━━━━━\u001b[0m\u001b[37m\u001b[0m \u001b[1m0s\u001b[0m 8ms/step - attrition_output_accuracy: 0.8629 - attrition_output_loss: 0.3427 - department_output_accuracy: 0.6307 - department_output_loss: 0.7746 - loss: 1.1170 - val_attrition_output_accuracy: 0.8824 - val_attrition_output_loss: 0.3411 - val_department_output_accuracy: 0.6606 - val_department_output_loss: 0.8006 - val_loss: 1.1426\n",
      "Epoch 8/100\n",
      "\u001b[1m28/28\u001b[0m \u001b[32m━━━━━━━━━━━━━━━━━━━━\u001b[0m\u001b[37m\u001b[0m \u001b[1m0s\u001b[0m 8ms/step - attrition_output_accuracy: 0.8765 - attrition_output_loss: 0.3374 - department_output_accuracy: 0.6319 - department_output_loss: 0.7733 - loss: 1.1107 - val_attrition_output_accuracy: 0.8778 - val_attrition_output_loss: 0.3405 - val_department_output_accuracy: 0.6606 - val_department_output_loss: 0.7964 - val_loss: 1.1376\n",
      "Epoch 9/100\n",
      "\u001b[1m28/28\u001b[0m \u001b[32m━━━━━━━━━━━━━━━━━━━━\u001b[0m\u001b[37m\u001b[0m \u001b[1m0s\u001b[0m 10ms/step - attrition_output_accuracy: 0.8756 - attrition_output_loss: 0.3226 - department_output_accuracy: 0.6201 - department_output_loss: 0.7722 - loss: 1.0951 - val_attrition_output_accuracy: 0.8778 - val_attrition_output_loss: 0.3416 - val_department_output_accuracy: 0.6606 - val_department_output_loss: 0.8001 - val_loss: 1.1423\n",
      "Epoch 10/100\n",
      "\u001b[1m28/28\u001b[0m \u001b[32m━━━━━━━━━━━━━━━━━━━━\u001b[0m\u001b[37m\u001b[0m \u001b[1m0s\u001b[0m 8ms/step - attrition_output_accuracy: 0.8668 - attrition_output_loss: 0.3247 - department_output_accuracy: 0.6354 - department_output_loss: 0.7761 - loss: 1.1011 - val_attrition_output_accuracy: 0.8733 - val_attrition_output_loss: 0.3436 - val_department_output_accuracy: 0.6561 - val_department_output_loss: 0.8024 - val_loss: 1.1462\n",
      "Epoch 11/100\n",
      "\u001b[1m28/28\u001b[0m \u001b[32m━━━━━━━━━━━━━━━━━━━━\u001b[0m\u001b[37m\u001b[0m \u001b[1m0s\u001b[0m 8ms/step - attrition_output_accuracy: 0.8817 - attrition_output_loss: 0.3016 - department_output_accuracy: 0.6576 - department_output_loss: 0.7149 - loss: 1.0162 - val_attrition_output_accuracy: 0.8643 - val_attrition_output_loss: 0.3434 - val_department_output_accuracy: 0.6471 - val_department_output_loss: 0.8053 - val_loss: 1.1494\n",
      "Epoch 12/100\n",
      "\u001b[1m28/28\u001b[0m \u001b[32m━━━━━━━━━━━━━━━━━━━━\u001b[0m\u001b[37m\u001b[0m \u001b[1m0s\u001b[0m 9ms/step - attrition_output_accuracy: 0.8784 - attrition_output_loss: 0.3039 - department_output_accuracy: 0.6474 - department_output_loss: 0.7548 - loss: 1.0585 - val_attrition_output_accuracy: 0.8597 - val_attrition_output_loss: 0.3435 - val_department_output_accuracy: 0.6561 - val_department_output_loss: 0.8042 - val_loss: 1.1483\n",
      "Epoch 13/100\n",
      "\u001b[1m28/28\u001b[0m \u001b[32m━━━━━━━━━━━━━━━━━━━━\u001b[0m\u001b[37m\u001b[0m \u001b[1m0s\u001b[0m 9ms/step - attrition_output_accuracy: 0.8905 - attrition_output_loss: 0.2770 - department_output_accuracy: 0.6672 - department_output_loss: 0.7044 - loss: 0.9813 - val_attrition_output_accuracy: 0.8643 - val_attrition_output_loss: 0.3489 - val_department_output_accuracy: 0.6425 - val_department_output_loss: 0.8084 - val_loss: 1.1581\n",
      "Epoch 14/100\n",
      "\u001b[1m28/28\u001b[0m \u001b[32m━━━━━━━━━━━━━━━━━━━━\u001b[0m\u001b[37m\u001b[0m \u001b[1m0s\u001b[0m 8ms/step - attrition_output_accuracy: 0.8799 - attrition_output_loss: 0.3022 - department_output_accuracy: 0.6733 - department_output_loss: 0.7120 - loss: 1.0135 - val_attrition_output_accuracy: 0.8778 - val_attrition_output_loss: 0.3439 - val_department_output_accuracy: 0.6561 - val_department_output_loss: 0.8078 - val_loss: 1.1525\n",
      "Epoch 15/100\n",
      "\u001b[1m28/28\u001b[0m \u001b[32m━━━━━━━━━━━━━━━━━━━━\u001b[0m\u001b[37m\u001b[0m \u001b[1m0s\u001b[0m 9ms/step - attrition_output_accuracy: 0.8757 - attrition_output_loss: 0.3022 - department_output_accuracy: 0.6981 - department_output_loss: 0.6512 - loss: 0.9536 - val_attrition_output_accuracy: 0.8733 - val_attrition_output_loss: 0.3587 - val_department_output_accuracy: 0.6380 - val_department_output_loss: 0.8187 - val_loss: 1.1779\n",
      "Epoch 16/100\n",
      "\u001b[1m28/28\u001b[0m \u001b[32m━━━━━━━━━━━━━━━━━━━━\u001b[0m\u001b[37m\u001b[0m \u001b[1m0s\u001b[0m 8ms/step - attrition_output_accuracy: 0.8735 - attrition_output_loss: 0.2991 - department_output_accuracy: 0.6802 - department_output_loss: 0.7176 - loss: 1.0167 - val_attrition_output_accuracy: 0.8733 - val_attrition_output_loss: 0.3528 - val_department_output_accuracy: 0.6199 - val_department_output_loss: 0.8209 - val_loss: 1.1736\n",
      "Epoch 17/100\n",
      "\u001b[1m28/28\u001b[0m \u001b[32m━━━━━━━━━━━━━━━━━━━━\u001b[0m\u001b[37m\u001b[0m \u001b[1m0s\u001b[0m 8ms/step - attrition_output_accuracy: 0.8686 - attrition_output_loss: 0.2968 - department_output_accuracy: 0.7050 - department_output_loss: 0.6775 - loss: 0.9741 - val_attrition_output_accuracy: 0.8688 - val_attrition_output_loss: 0.3553 - val_department_output_accuracy: 0.6606 - val_department_output_loss: 0.8139 - val_loss: 1.1698\n",
      "Epoch 18/100\n",
      "\u001b[1m28/28\u001b[0m \u001b[32m━━━━━━━━━━━━━━━━━━━━\u001b[0m\u001b[37m\u001b[0m \u001b[1m0s\u001b[0m 9ms/step - attrition_output_accuracy: 0.8849 - attrition_output_loss: 0.3100 - department_output_accuracy: 0.6768 - department_output_loss: 0.6900 - loss: 1.0002 - val_attrition_output_accuracy: 0.8643 - val_attrition_output_loss: 0.3661 - val_department_output_accuracy: 0.6606 - val_department_output_loss: 0.8237 - val_loss: 1.1906\n",
      "Epoch 19/100\n",
      "\u001b[1m28/28\u001b[0m \u001b[32m━━━━━━━━━━━━━━━━━━━━\u001b[0m\u001b[37m\u001b[0m \u001b[1m0s\u001b[0m 9ms/step - attrition_output_accuracy: 0.9037 - attrition_output_loss: 0.2529 - department_output_accuracy: 0.7294 - department_output_loss: 0.6362 - loss: 0.8887 - val_attrition_output_accuracy: 0.8688 - val_attrition_output_loss: 0.3602 - val_department_output_accuracy: 0.5837 - val_department_output_loss: 0.8264 - val_loss: 1.1864\n",
      "Epoch 20/100\n",
      "\u001b[1m28/28\u001b[0m \u001b[32m━━━━━━━━━━━━━━━━━━━━\u001b[0m\u001b[37m\u001b[0m \u001b[1m0s\u001b[0m 9ms/step - attrition_output_accuracy: 0.9134 - attrition_output_loss: 0.2351 - department_output_accuracy: 0.7191 - department_output_loss: 0.6564 - loss: 0.8915 - val_attrition_output_accuracy: 0.8552 - val_attrition_output_loss: 0.3688 - val_department_output_accuracy: 0.6244 - val_department_output_loss: 0.8300 - val_loss: 1.1990\n",
      "Epoch 21/100\n",
      "\u001b[1m28/28\u001b[0m \u001b[32m━━━━━━━━━━━━━━━━━━━━\u001b[0m\u001b[37m\u001b[0m \u001b[1m0s\u001b[0m 8ms/step - attrition_output_accuracy: 0.9230 - attrition_output_loss: 0.2333 - department_output_accuracy: 0.7419 - department_output_loss: 0.6224 - loss: 0.8552 - val_attrition_output_accuracy: 0.8643 - val_attrition_output_loss: 0.3743 - val_department_output_accuracy: 0.5973 - val_department_output_loss: 0.8280 - val_loss: 1.2025\n",
      "Epoch 22/100\n",
      "\u001b[1m28/28\u001b[0m \u001b[32m━━━━━━━━━━━━━━━━━━━━\u001b[0m\u001b[37m\u001b[0m \u001b[1m0s\u001b[0m 8ms/step - attrition_output_accuracy: 0.8944 - attrition_output_loss: 0.2415 - department_output_accuracy: 0.7186 - department_output_loss: 0.6434 - loss: 0.8852 - val_attrition_output_accuracy: 0.8733 - val_attrition_output_loss: 0.3870 - val_department_output_accuracy: 0.6561 - val_department_output_loss: 0.8399 - val_loss: 1.2269\n",
      "Epoch 23/100\n",
      "\u001b[1m28/28\u001b[0m \u001b[32m━━━━━━━━━━━━━━━━━━━━\u001b[0m\u001b[37m\u001b[0m \u001b[1m0s\u001b[0m 8ms/step - attrition_output_accuracy: 0.9007 - attrition_output_loss: 0.2629 - department_output_accuracy: 0.7295 - department_output_loss: 0.6229 - loss: 0.8857 - val_attrition_output_accuracy: 0.8552 - val_attrition_output_loss: 0.3945 - val_department_output_accuracy: 0.6199 - val_department_output_loss: 0.8377 - val_loss: 1.2324\n",
      "Epoch 24/100\n",
      "\u001b[1m28/28\u001b[0m \u001b[32m━━━━━━━━━━━━━━━━━━━━\u001b[0m\u001b[37m\u001b[0m \u001b[1m0s\u001b[0m 9ms/step - attrition_output_accuracy: 0.9003 - attrition_output_loss: 0.2395 - department_output_accuracy: 0.7401 - department_output_loss: 0.6025 - loss: 0.8420 - val_attrition_output_accuracy: 0.8733 - val_attrition_output_loss: 0.3770 - val_department_output_accuracy: 0.5792 - val_department_output_loss: 0.8567 - val_loss: 1.2335\n",
      "Epoch 25/100\n",
      "\u001b[1m28/28\u001b[0m \u001b[32m━━━━━━━━━━━━━━━━━━━━\u001b[0m\u001b[37m\u001b[0m \u001b[1m0s\u001b[0m 8ms/step - attrition_output_accuracy: 0.9104 - attrition_output_loss: 0.2186 - department_output_accuracy: 0.7794 - department_output_loss: 0.5788 - loss: 0.7975 - val_attrition_output_accuracy: 0.8597 - val_attrition_output_loss: 0.4116 - val_department_output_accuracy: 0.5882 - val_department_output_loss: 0.8533 - val_loss: 1.2647\n",
      "Epoch 26/100\n",
      "\u001b[1m28/28\u001b[0m \u001b[32m━━━━━━━━━━━━━━━━━━━━\u001b[0m\u001b[37m\u001b[0m \u001b[1m0s\u001b[0m 8ms/step - attrition_output_accuracy: 0.9103 - attrition_output_loss: 0.2258 - department_output_accuracy: 0.7668 - department_output_loss: 0.5708 - loss: 0.7966 - val_attrition_output_accuracy: 0.8597 - val_attrition_output_loss: 0.4116 - val_department_output_accuracy: 0.6471 - val_department_output_loss: 0.8516 - val_loss: 1.2629\n",
      "Epoch 27/100\n",
      "\u001b[1m28/28\u001b[0m \u001b[32m━━━━━━━━━━━━━━━━━━━━\u001b[0m\u001b[37m\u001b[0m \u001b[1m0s\u001b[0m 8ms/step - attrition_output_accuracy: 0.9281 - attrition_output_loss: 0.1884 - department_output_accuracy: 0.7622 - department_output_loss: 0.5673 - loss: 0.7555 - val_attrition_output_accuracy: 0.8552 - val_attrition_output_loss: 0.4249 - val_department_output_accuracy: 0.5611 - val_department_output_loss: 0.8754 - val_loss: 1.2998\n",
      "Epoch 28/100\n",
      "\u001b[1m28/28\u001b[0m \u001b[32m━━━━━━━━━━━━━━━━━━━━\u001b[0m\u001b[37m\u001b[0m \u001b[1m0s\u001b[0m 8ms/step - attrition_output_accuracy: 0.9196 - attrition_output_loss: 0.1849 - department_output_accuracy: 0.7757 - department_output_loss: 0.5650 - loss: 0.7498 - val_attrition_output_accuracy: 0.8281 - val_attrition_output_loss: 0.4319 - val_department_output_accuracy: 0.5792 - val_department_output_loss: 0.8712 - val_loss: 1.3030\n",
      "Epoch 29/100\n",
      "\u001b[1m28/28\u001b[0m \u001b[32m━━━━━━━━━━━━━━━━━━━━\u001b[0m\u001b[37m\u001b[0m \u001b[1m0s\u001b[0m 9ms/step - attrition_output_accuracy: 0.9220 - attrition_output_loss: 0.2122 - department_output_accuracy: 0.7815 - department_output_loss: 0.5782 - loss: 0.7906 - val_attrition_output_accuracy: 0.8597 - val_attrition_output_loss: 0.4583 - val_department_output_accuracy: 0.6063 - val_department_output_loss: 0.8861 - val_loss: 1.3437\n",
      "Epoch 30/100\n",
      "\u001b[1m28/28\u001b[0m \u001b[32m━━━━━━━━━━━━━━━━━━━━\u001b[0m\u001b[37m\u001b[0m \u001b[1m0s\u001b[0m 9ms/step - attrition_output_accuracy: 0.9165 - attrition_output_loss: 0.1837 - department_output_accuracy: 0.7794 - department_output_loss: 0.5298 - loss: 0.7136 - val_attrition_output_accuracy: 0.8507 - val_attrition_output_loss: 0.4473 - val_department_output_accuracy: 0.5882 - val_department_output_loss: 0.8875 - val_loss: 1.3346\n",
      "Epoch 31/100\n",
      "\u001b[1m28/28\u001b[0m \u001b[32m━━━━━━━━━━━━━━━━━━━━\u001b[0m\u001b[37m\u001b[0m \u001b[1m0s\u001b[0m 10ms/step - attrition_output_accuracy: 0.9256 - attrition_output_loss: 0.2043 - department_output_accuracy: 0.7870 - department_output_loss: 0.5411 - loss: 0.7456 - val_attrition_output_accuracy: 0.8371 - val_attrition_output_loss: 0.4657 - val_department_output_accuracy: 0.5837 - val_department_output_loss: 0.8949 - val_loss: 1.3599\n",
      "Epoch 32/100\n",
      "\u001b[1m28/28\u001b[0m \u001b[32m━━━━━━━━━━━━━━━━━━━━\u001b[0m\u001b[37m\u001b[0m \u001b[1m0s\u001b[0m 9ms/step - attrition_output_accuracy: 0.9498 - attrition_output_loss: 0.1554 - department_output_accuracy: 0.8219 - department_output_loss: 0.4997 - loss: 0.6553 - val_attrition_output_accuracy: 0.8552 - val_attrition_output_loss: 0.4840 - val_department_output_accuracy: 0.6154 - val_department_output_loss: 0.9026 - val_loss: 1.3862\n",
      "Epoch 33/100\n",
      "\u001b[1m28/28\u001b[0m \u001b[32m━━━━━━━━━━━━━━━━━━━━\u001b[0m\u001b[37m\u001b[0m \u001b[1m0s\u001b[0m 8ms/step - attrition_output_accuracy: 0.9274 - attrition_output_loss: 0.1778 - department_output_accuracy: 0.7970 - department_output_loss: 0.5120 - loss: 0.6899 - val_attrition_output_accuracy: 0.8507 - val_attrition_output_loss: 0.4839 - val_department_output_accuracy: 0.5882 - val_department_output_loss: 0.9174 - val_loss: 1.4011\n",
      "Epoch 34/100\n",
      "\u001b[1m28/28\u001b[0m \u001b[32m━━━━━━━━━━━━━━━━━━━━\u001b[0m\u001b[37m\u001b[0m \u001b[1m0s\u001b[0m 8ms/step - attrition_output_accuracy: 0.9328 - attrition_output_loss: 0.1775 - department_output_accuracy: 0.8017 - department_output_loss: 0.4773 - loss: 0.6549 - val_attrition_output_accuracy: 0.8371 - val_attrition_output_loss: 0.5113 - val_department_output_accuracy: 0.5882 - val_department_output_loss: 0.9158 - val_loss: 1.4259\n",
      "Epoch 35/100\n",
      "\u001b[1m28/28\u001b[0m \u001b[32m━━━━━━━━━━━━━━━━━━━━\u001b[0m\u001b[37m\u001b[0m \u001b[1m0s\u001b[0m 10ms/step - attrition_output_accuracy: 0.9427 - attrition_output_loss: 0.1467 - department_output_accuracy: 0.8192 - department_output_loss: 0.4810 - loss: 0.6277 - val_attrition_output_accuracy: 0.8371 - val_attrition_output_loss: 0.5057 - val_department_output_accuracy: 0.5837 - val_department_output_loss: 0.9427 - val_loss: 1.4476\n",
      "Epoch 36/100\n",
      "\u001b[1m28/28\u001b[0m \u001b[32m━━━━━━━━━━━━━━━━━━━━\u001b[0m\u001b[37m\u001b[0m \u001b[1m0s\u001b[0m 8ms/step - attrition_output_accuracy: 0.9493 - attrition_output_loss: 0.1387 - department_output_accuracy: 0.8370 - department_output_loss: 0.4541 - loss: 0.5928 - val_attrition_output_accuracy: 0.8326 - val_attrition_output_loss: 0.5252 - val_department_output_accuracy: 0.6063 - val_department_output_loss: 0.9291 - val_loss: 1.4529\n",
      "Epoch 37/100\n",
      "\u001b[1m28/28\u001b[0m \u001b[32m━━━━━━━━━━━━━━━━━━━━\u001b[0m\u001b[37m\u001b[0m \u001b[1m0s\u001b[0m 9ms/step - attrition_output_accuracy: 0.9564 - attrition_output_loss: 0.1321 - department_output_accuracy: 0.8424 - department_output_loss: 0.4175 - loss: 0.5495 - val_attrition_output_accuracy: 0.8462 - val_attrition_output_loss: 0.5197 - val_department_output_accuracy: 0.5747 - val_department_output_loss: 0.9407 - val_loss: 1.4584\n",
      "Epoch 38/100\n",
      "\u001b[1m28/28\u001b[0m \u001b[32m━━━━━━━━━━━━━━━━━━━━\u001b[0m\u001b[37m\u001b[0m \u001b[1m0s\u001b[0m 8ms/step - attrition_output_accuracy: 0.9561 - attrition_output_loss: 0.1396 - department_output_accuracy: 0.8671 - department_output_loss: 0.4019 - loss: 0.5416 - val_attrition_output_accuracy: 0.8281 - val_attrition_output_loss: 0.5157 - val_department_output_accuracy: 0.6063 - val_department_output_loss: 0.9676 - val_loss: 1.4830\n",
      "Epoch 39/100\n",
      "\u001b[1m28/28\u001b[0m \u001b[32m━━━━━━━━━━━━━━━━━━━━\u001b[0m\u001b[37m\u001b[0m \u001b[1m0s\u001b[0m 9ms/step - attrition_output_accuracy: 0.9491 - attrition_output_loss: 0.1389 - department_output_accuracy: 0.8499 - department_output_loss: 0.4197 - loss: 0.5584 - val_attrition_output_accuracy: 0.8462 - val_attrition_output_loss: 0.5679 - val_department_output_accuracy: 0.6063 - val_department_output_loss: 0.9547 - val_loss: 1.5198\n",
      "Epoch 40/100\n",
      "\u001b[1m28/28\u001b[0m \u001b[32m━━━━━━━━━━━━━━━━━━━━\u001b[0m\u001b[37m\u001b[0m \u001b[1m0s\u001b[0m 9ms/step - attrition_output_accuracy: 0.9554 - attrition_output_loss: 0.1332 - department_output_accuracy: 0.8681 - department_output_loss: 0.3924 - loss: 0.5255 - val_attrition_output_accuracy: 0.8371 - val_attrition_output_loss: 0.5644 - val_department_output_accuracy: 0.5973 - val_department_output_loss: 0.9787 - val_loss: 1.5411\n",
      "Epoch 41/100\n",
      "\u001b[1m28/28\u001b[0m \u001b[32m━━━━━━━━━━━━━━━━━━━━\u001b[0m\u001b[37m\u001b[0m \u001b[1m0s\u001b[0m 10ms/step - attrition_output_accuracy: 0.9542 - attrition_output_loss: 0.1187 - department_output_accuracy: 0.8773 - department_output_loss: 0.3840 - loss: 0.5027 - val_attrition_output_accuracy: 0.8371 - val_attrition_output_loss: 0.5933 - val_department_output_accuracy: 0.6244 - val_department_output_loss: 0.9954 - val_loss: 1.5880\n",
      "Epoch 42/100\n",
      "\u001b[1m28/28\u001b[0m \u001b[32m━━━━━━━━━━━━━━━━━━━━\u001b[0m\u001b[37m\u001b[0m \u001b[1m1s\u001b[0m 10ms/step - attrition_output_accuracy: 0.9729 - attrition_output_loss: 0.0900 - department_output_accuracy: 0.8558 - department_output_loss: 0.3894 - loss: 0.4795 - val_attrition_output_accuracy: 0.8371 - val_attrition_output_loss: 0.6197 - val_department_output_accuracy: 0.5882 - val_department_output_loss: 1.0356 - val_loss: 1.6549\n",
      "Epoch 43/100\n",
      "\u001b[1m28/28\u001b[0m \u001b[32m━━━━━━━━━━━━━━━━━━━━\u001b[0m\u001b[37m\u001b[0m \u001b[1m0s\u001b[0m 9ms/step - attrition_output_accuracy: 0.9728 - attrition_output_loss: 0.0960 - department_output_accuracy: 0.8505 - department_output_loss: 0.3822 - loss: 0.4780 - val_attrition_output_accuracy: 0.8326 - val_attrition_output_loss: 0.6364 - val_department_output_accuracy: 0.5520 - val_department_output_loss: 1.0354 - val_loss: 1.6692\n",
      "Epoch 44/100\n",
      "\u001b[1m28/28\u001b[0m \u001b[32m━━━━━━━━━━━━━━━━━━━━\u001b[0m\u001b[37m\u001b[0m \u001b[1m0s\u001b[0m 8ms/step - attrition_output_accuracy: 0.9588 - attrition_output_loss: 0.1086 - department_output_accuracy: 0.8623 - department_output_loss: 0.3686 - loss: 0.4772 - val_attrition_output_accuracy: 0.8371 - val_attrition_output_loss: 0.6792 - val_department_output_accuracy: 0.6109 - val_department_output_loss: 1.0386 - val_loss: 1.7177\n",
      "Epoch 45/100\n",
      "\u001b[1m28/28\u001b[0m \u001b[32m━━━━━━━━━━━━━━━━━━━━\u001b[0m\u001b[37m\u001b[0m \u001b[1m0s\u001b[0m 10ms/step - attrition_output_accuracy: 0.9499 - attrition_output_loss: 0.1187 - department_output_accuracy: 0.8846 - department_output_loss: 0.3369 - loss: 0.4556 - val_attrition_output_accuracy: 0.8326 - val_attrition_output_loss: 0.6540 - val_department_output_accuracy: 0.6154 - val_department_output_loss: 1.0221 - val_loss: 1.6743\n",
      "Epoch 46/100\n",
      "\u001b[1m28/28\u001b[0m \u001b[32m━━━━━━━━━━━━━━━━━━━━\u001b[0m\u001b[37m\u001b[0m \u001b[1m0s\u001b[0m 9ms/step - attrition_output_accuracy: 0.9694 - attrition_output_loss: 0.0831 - department_output_accuracy: 0.8802 - department_output_loss: 0.3541 - loss: 0.4372 - val_attrition_output_accuracy: 0.8281 - val_attrition_output_loss: 0.6431 - val_department_output_accuracy: 0.5973 - val_department_output_loss: 1.0616 - val_loss: 1.7037\n",
      "Epoch 47/100\n",
      "\u001b[1m28/28\u001b[0m \u001b[32m━━━━━━━━━━━━━━━━━━━━\u001b[0m\u001b[37m\u001b[0m \u001b[1m0s\u001b[0m 9ms/step - attrition_output_accuracy: 0.9657 - attrition_output_loss: 0.1067 - department_output_accuracy: 0.8677 - department_output_loss: 0.3546 - loss: 0.4612 - val_attrition_output_accuracy: 0.8281 - val_attrition_output_loss: 0.7002 - val_department_output_accuracy: 0.5973 - val_department_output_loss: 1.0508 - val_loss: 1.7483\n",
      "Epoch 48/100\n",
      "\u001b[1m28/28\u001b[0m \u001b[32m━━━━━━━━━━━━━━━━━━━━\u001b[0m\u001b[37m\u001b[0m \u001b[1m0s\u001b[0m 10ms/step - attrition_output_accuracy: 0.9641 - attrition_output_loss: 0.0949 - department_output_accuracy: 0.9058 - department_output_loss: 0.3102 - loss: 0.4051 - val_attrition_output_accuracy: 0.8281 - val_attrition_output_loss: 0.7029 - val_department_output_accuracy: 0.6109 - val_department_output_loss: 1.0881 - val_loss: 1.7888\n",
      "Epoch 49/100\n",
      "\u001b[1m28/28\u001b[0m \u001b[32m━━━━━━━━━━━━━━━━━━━━\u001b[0m\u001b[37m\u001b[0m \u001b[1m0s\u001b[0m 9ms/step - attrition_output_accuracy: 0.9731 - attrition_output_loss: 0.0744 - department_output_accuracy: 0.9163 - department_output_loss: 0.2885 - loss: 0.3629 - val_attrition_output_accuracy: 0.8054 - val_attrition_output_loss: 0.7363 - val_department_output_accuracy: 0.5701 - val_department_output_loss: 1.0932 - val_loss: 1.8266\n",
      "Epoch 50/100\n",
      "\u001b[1m28/28\u001b[0m \u001b[32m━━━━━━━━━━━━━━━━━━━━\u001b[0m\u001b[37m\u001b[0m \u001b[1m0s\u001b[0m 9ms/step - attrition_output_accuracy: 0.9621 - attrition_output_loss: 0.1100 - department_output_accuracy: 0.9145 - department_output_loss: 0.2676 - loss: 0.3777 - val_attrition_output_accuracy: 0.8552 - val_attrition_output_loss: 0.7718 - val_department_output_accuracy: 0.6290 - val_department_output_loss: 1.0982 - val_loss: 1.8678\n",
      "Epoch 51/100\n",
      "\u001b[1m28/28\u001b[0m \u001b[32m━━━━━━━━━━━━━━━━━━━━\u001b[0m\u001b[37m\u001b[0m \u001b[1m0s\u001b[0m 8ms/step - attrition_output_accuracy: 0.9535 - attrition_output_loss: 0.1013 - department_output_accuracy: 0.8939 - department_output_loss: 0.2931 - loss: 0.3943 - val_attrition_output_accuracy: 0.8190 - val_attrition_output_loss: 0.7577 - val_department_output_accuracy: 0.6063 - val_department_output_loss: 1.1249 - val_loss: 1.8803\n",
      "Epoch 52/100\n",
      "\u001b[1m28/28\u001b[0m \u001b[32m━━━━━━━━━━━━━━━━━━━━\u001b[0m\u001b[37m\u001b[0m \u001b[1m0s\u001b[0m 7ms/step - attrition_output_accuracy: 0.9882 - attrition_output_loss: 0.0624 - department_output_accuracy: 0.9292 - department_output_loss: 0.2575 - loss: 0.3198 - val_attrition_output_accuracy: 0.8326 - val_attrition_output_loss: 0.7348 - val_department_output_accuracy: 0.6154 - val_department_output_loss: 1.1755 - val_loss: 1.9097\n",
      "Epoch 53/100\n",
      "\u001b[1m28/28\u001b[0m \u001b[32m━━━━━━━━━━━━━━━━━━━━\u001b[0m\u001b[37m\u001b[0m \u001b[1m0s\u001b[0m 8ms/step - attrition_output_accuracy: 0.9853 - attrition_output_loss: 0.0662 - department_output_accuracy: 0.9213 - department_output_loss: 0.2565 - loss: 0.3227 - val_attrition_output_accuracy: 0.8145 - val_attrition_output_loss: 0.8221 - val_department_output_accuracy: 0.6244 - val_department_output_loss: 1.1822 - val_loss: 2.0024\n",
      "Epoch 54/100\n",
      "\u001b[1m28/28\u001b[0m \u001b[32m━━━━━━━━━━━━━━━━━━━━\u001b[0m\u001b[37m\u001b[0m \u001b[1m0s\u001b[0m 9ms/step - attrition_output_accuracy: 0.9787 - attrition_output_loss: 0.0687 - department_output_accuracy: 0.9216 - department_output_loss: 0.2461 - loss: 0.3146 - val_attrition_output_accuracy: 0.8235 - val_attrition_output_loss: 0.7802 - val_department_output_accuracy: 0.6244 - val_department_output_loss: 1.1868 - val_loss: 1.9658\n",
      "Epoch 55/100\n",
      "\u001b[1m28/28\u001b[0m \u001b[32m━━━━━━━━━━━━━━━━━━━━\u001b[0m\u001b[37m\u001b[0m \u001b[1m0s\u001b[0m 10ms/step - attrition_output_accuracy: 0.9857 - attrition_output_loss: 0.0623 - department_output_accuracy: 0.9386 - department_output_loss: 0.2379 - loss: 0.3003 - val_attrition_output_accuracy: 0.8326 - val_attrition_output_loss: 0.8290 - val_department_output_accuracy: 0.6063 - val_department_output_loss: 1.1807 - val_loss: 2.0075\n",
      "Epoch 56/100\n",
      "\u001b[1m28/28\u001b[0m \u001b[32m━━━━━━━━━━━━━━━━━━━━\u001b[0m\u001b[37m\u001b[0m \u001b[1m0s\u001b[0m 9ms/step - attrition_output_accuracy: 0.9902 - attrition_output_loss: 0.0524 - department_output_accuracy: 0.9441 - department_output_loss: 0.2124 - loss: 0.2648 - val_attrition_output_accuracy: 0.8235 - val_attrition_output_loss: 0.8217 - val_department_output_accuracy: 0.6018 - val_department_output_loss: 1.2108 - val_loss: 2.0298\n",
      "Epoch 57/100\n",
      "\u001b[1m28/28\u001b[0m \u001b[32m━━━━━━━━━━━━━━━━━━━━\u001b[0m\u001b[37m\u001b[0m \u001b[1m0s\u001b[0m 9ms/step - attrition_output_accuracy: 0.9878 - attrition_output_loss: 0.0596 - department_output_accuracy: 0.9470 - department_output_loss: 0.2105 - loss: 0.2699 - val_attrition_output_accuracy: 0.8235 - val_attrition_output_loss: 0.8821 - val_department_output_accuracy: 0.6154 - val_department_output_loss: 1.2194 - val_loss: 2.0991\n",
      "Epoch 58/100\n",
      "\u001b[1m28/28\u001b[0m \u001b[32m━━━━━━━━━━━━━━━━━━━━\u001b[0m\u001b[37m\u001b[0m \u001b[1m0s\u001b[0m 9ms/step - attrition_output_accuracy: 0.9903 - attrition_output_loss: 0.0496 - department_output_accuracy: 0.9466 - department_output_loss: 0.1969 - loss: 0.2466 - val_attrition_output_accuracy: 0.8281 - val_attrition_output_loss: 0.8690 - val_department_output_accuracy: 0.6109 - val_department_output_loss: 1.2276 - val_loss: 2.0927\n",
      "Epoch 59/100\n",
      "\u001b[1m28/28\u001b[0m \u001b[32m━━━━━━━━━━━━━━━━━━━━\u001b[0m\u001b[37m\u001b[0m \u001b[1m0s\u001b[0m 9ms/step - attrition_output_accuracy: 0.9954 - attrition_output_loss: 0.0399 - department_output_accuracy: 0.9368 - department_output_loss: 0.2004 - loss: 0.2404 - val_attrition_output_accuracy: 0.8190 - val_attrition_output_loss: 0.8829 - val_department_output_accuracy: 0.5973 - val_department_output_loss: 1.2375 - val_loss: 2.1171\n",
      "Epoch 60/100\n",
      "\u001b[1m28/28\u001b[0m \u001b[32m━━━━━━━━━━━━━━━━━━━━\u001b[0m\u001b[37m\u001b[0m \u001b[1m0s\u001b[0m 11ms/step - attrition_output_accuracy: 0.9914 - attrition_output_loss: 0.0390 - department_output_accuracy: 0.9543 - department_output_loss: 0.2041 - loss: 0.2429 - val_attrition_output_accuracy: 0.8235 - val_attrition_output_loss: 0.9368 - val_department_output_accuracy: 0.5792 - val_department_output_loss: 1.2702 - val_loss: 2.2015\n",
      "Epoch 61/100\n",
      "\u001b[1m28/28\u001b[0m \u001b[32m━━━━━━━━━━━━━━━━━━━━\u001b[0m\u001b[37m\u001b[0m \u001b[1m0s\u001b[0m 9ms/step - attrition_output_accuracy: 0.9900 - attrition_output_loss: 0.0468 - department_output_accuracy: 0.9432 - department_output_loss: 0.1907 - loss: 0.2375 - val_attrition_output_accuracy: 0.8190 - val_attrition_output_loss: 0.8774 - val_department_output_accuracy: 0.6063 - val_department_output_loss: 1.3006 - val_loss: 2.1752\n",
      "Epoch 62/100\n",
      "\u001b[1m28/28\u001b[0m \u001b[32m━━━━━━━━━━━━━━━━━━━━\u001b[0m\u001b[37m\u001b[0m \u001b[1m0s\u001b[0m 10ms/step - attrition_output_accuracy: 0.9947 - attrition_output_loss: 0.0372 - department_output_accuracy: 0.9536 - department_output_loss: 0.1852 - loss: 0.2224 - val_attrition_output_accuracy: 0.8326 - val_attrition_output_loss: 0.9370 - val_department_output_accuracy: 0.5837 - val_department_output_loss: 1.3309 - val_loss: 2.2640\n",
      "Epoch 63/100\n",
      "\u001b[1m28/28\u001b[0m \u001b[32m━━━━━━━━━━━━━━━━━━━━\u001b[0m\u001b[37m\u001b[0m \u001b[1m0s\u001b[0m 9ms/step - attrition_output_accuracy: 0.9947 - attrition_output_loss: 0.0395 - department_output_accuracy: 0.9604 - department_output_loss: 0.1753 - loss: 0.2146 - val_attrition_output_accuracy: 0.8190 - val_attrition_output_loss: 0.9896 - val_department_output_accuracy: 0.6063 - val_department_output_loss: 1.3218 - val_loss: 2.3066\n",
      "Epoch 64/100\n",
      "\u001b[1m28/28\u001b[0m \u001b[32m━━━━━━━━━━━━━━━━━━━━\u001b[0m\u001b[37m\u001b[0m \u001b[1m0s\u001b[0m 9ms/step - attrition_output_accuracy: 0.9984 - attrition_output_loss: 0.0328 - department_output_accuracy: 0.9704 - department_output_loss: 0.1497 - loss: 0.1826 - val_attrition_output_accuracy: 0.8235 - val_attrition_output_loss: 0.9722 - val_department_output_accuracy: 0.6018 - val_department_output_loss: 1.3505 - val_loss: 2.3190\n",
      "Epoch 65/100\n",
      "\u001b[1m28/28\u001b[0m \u001b[32m━━━━━━━━━━━━━━━━━━━━\u001b[0m\u001b[37m\u001b[0m \u001b[1m0s\u001b[0m 9ms/step - attrition_output_accuracy: 0.9920 - attrition_output_loss: 0.0394 - department_output_accuracy: 0.9621 - department_output_loss: 0.1610 - loss: 0.2003 - val_attrition_output_accuracy: 0.8235 - val_attrition_output_loss: 0.9956 - val_department_output_accuracy: 0.6154 - val_department_output_loss: 1.4076 - val_loss: 2.4016\n",
      "Epoch 66/100\n",
      "\u001b[1m28/28\u001b[0m \u001b[32m━━━━━━━━━━━━━━━━━━━━\u001b[0m\u001b[37m\u001b[0m \u001b[1m0s\u001b[0m 9ms/step - attrition_output_accuracy: 0.9916 - attrition_output_loss: 0.0354 - department_output_accuracy: 0.9650 - department_output_loss: 0.1419 - loss: 0.1773 - val_attrition_output_accuracy: 0.8326 - val_attrition_output_loss: 0.9904 - val_department_output_accuracy: 0.5747 - val_department_output_loss: 1.4215 - val_loss: 2.4086\n",
      "Epoch 67/100\n",
      "\u001b[1m28/28\u001b[0m \u001b[32m━━━━━━━━━━━━━━━━━━━━\u001b[0m\u001b[37m\u001b[0m \u001b[1m0s\u001b[0m 9ms/step - attrition_output_accuracy: 0.9950 - attrition_output_loss: 0.0334 - department_output_accuracy: 0.9530 - department_output_loss: 0.1696 - loss: 0.2030 - val_attrition_output_accuracy: 0.8281 - val_attrition_output_loss: 1.0321 - val_department_output_accuracy: 0.6018 - val_department_output_loss: 1.4287 - val_loss: 2.4572\n",
      "Epoch 68/100\n",
      "\u001b[1m28/28\u001b[0m \u001b[32m━━━━━━━━━━━━━━━━━━━━\u001b[0m\u001b[37m\u001b[0m \u001b[1m0s\u001b[0m 9ms/step - attrition_output_accuracy: 0.9955 - attrition_output_loss: 0.0279 - department_output_accuracy: 0.9646 - department_output_loss: 0.1442 - loss: 0.1721 - val_attrition_output_accuracy: 0.8281 - val_attrition_output_loss: 1.0285 - val_department_output_accuracy: 0.5882 - val_department_output_loss: 1.4378 - val_loss: 2.4618\n",
      "Epoch 69/100\n",
      "\u001b[1m28/28\u001b[0m \u001b[32m━━━━━━━━━━━━━━━━━━━━\u001b[0m\u001b[37m\u001b[0m \u001b[1m0s\u001b[0m 10ms/step - attrition_output_accuracy: 0.9919 - attrition_output_loss: 0.0311 - department_output_accuracy: 0.9638 - department_output_loss: 0.1382 - loss: 0.1693 - val_attrition_output_accuracy: 0.8100 - val_attrition_output_loss: 1.0281 - val_department_output_accuracy: 0.5928 - val_department_output_loss: 1.4479 - val_loss: 2.4715\n",
      "Epoch 70/100\n",
      "\u001b[1m28/28\u001b[0m \u001b[32m━━━━━━━━━━━━━━━━━━━━\u001b[0m\u001b[37m\u001b[0m \u001b[1m0s\u001b[0m 8ms/step - attrition_output_accuracy: 0.9909 - attrition_output_loss: 0.0344 - department_output_accuracy: 0.9672 - department_output_loss: 0.1249 - loss: 0.1592 - val_attrition_output_accuracy: 0.8326 - val_attrition_output_loss: 1.1557 - val_department_output_accuracy: 0.6063 - val_department_output_loss: 1.4836 - val_loss: 2.6360\n",
      "Epoch 71/100\n",
      "\u001b[1m28/28\u001b[0m \u001b[32m━━━━━━━━━━━━━━━━━━━━\u001b[0m\u001b[37m\u001b[0m \u001b[1m0s\u001b[0m 10ms/step - attrition_output_accuracy: 0.9965 - attrition_output_loss: 0.0290 - department_output_accuracy: 0.9645 - department_output_loss: 0.1350 - loss: 0.1639 - val_attrition_output_accuracy: 0.8235 - val_attrition_output_loss: 1.1025 - val_department_output_accuracy: 0.6018 - val_department_output_loss: 1.4949 - val_loss: 2.5923\n",
      "Epoch 72/100\n",
      "\u001b[1m28/28\u001b[0m \u001b[32m━━━━━━━━━━━━━━━━━━━━\u001b[0m\u001b[37m\u001b[0m \u001b[1m1s\u001b[0m 11ms/step - attrition_output_accuracy: 0.9930 - attrition_output_loss: 0.0301 - department_output_accuracy: 0.9747 - department_output_loss: 0.1252 - loss: 0.1554 - val_attrition_output_accuracy: 0.8326 - val_attrition_output_loss: 1.0633 - val_department_output_accuracy: 0.5973 - val_department_output_loss: 1.5716 - val_loss: 2.6322\n",
      "Epoch 73/100\n",
      "\u001b[1m28/28\u001b[0m \u001b[32m━━━━━━━━━━━━━━━━━━━━\u001b[0m\u001b[37m\u001b[0m \u001b[1m0s\u001b[0m 12ms/step - attrition_output_accuracy: 0.9978 - attrition_output_loss: 0.0255 - department_output_accuracy: 0.9680 - department_output_loss: 0.1193 - loss: 0.1448 - val_attrition_output_accuracy: 0.8371 - val_attrition_output_loss: 1.1264 - val_department_output_accuracy: 0.6018 - val_department_output_loss: 1.5852 - val_loss: 2.7084\n",
      "Epoch 74/100\n",
      "\u001b[1m28/28\u001b[0m \u001b[32m━━━━━━━━━━━━━━━━━━━━\u001b[0m\u001b[37m\u001b[0m \u001b[1m0s\u001b[0m 10ms/step - attrition_output_accuracy: 0.9974 - attrition_output_loss: 0.0267 - department_output_accuracy: 0.9774 - department_output_loss: 0.1042 - loss: 0.1308 - val_attrition_output_accuracy: 0.8235 - val_attrition_output_loss: 1.1370 - val_department_output_accuracy: 0.6109 - val_department_output_loss: 1.5757 - val_loss: 2.7100\n",
      "Epoch 75/100\n",
      "\u001b[1m28/28\u001b[0m \u001b[32m━━━━━━━━━━━━━━━━━━━━\u001b[0m\u001b[37m\u001b[0m \u001b[1m1s\u001b[0m 11ms/step - attrition_output_accuracy: 0.9971 - attrition_output_loss: 0.0254 - department_output_accuracy: 0.9750 - department_output_loss: 0.1028 - loss: 0.1281 - val_attrition_output_accuracy: 0.8371 - val_attrition_output_loss: 1.1558 - val_department_output_accuracy: 0.6109 - val_department_output_loss: 1.5980 - val_loss: 2.7502\n",
      "Epoch 76/100\n",
      "\u001b[1m28/28\u001b[0m \u001b[32m━━━━━━━━━━━━━━━━━━━━\u001b[0m\u001b[37m\u001b[0m \u001b[1m1s\u001b[0m 10ms/step - attrition_output_accuracy: 0.9970 - attrition_output_loss: 0.0193 - department_output_accuracy: 0.9866 - department_output_loss: 0.0945 - loss: 0.1139 - val_attrition_output_accuracy: 0.8326 - val_attrition_output_loss: 1.1544 - val_department_output_accuracy: 0.5882 - val_department_output_loss: 1.5878 - val_loss: 2.7370\n",
      "Epoch 77/100\n",
      "\u001b[1m28/28\u001b[0m \u001b[32m━━━━━━━━━━━━━━━━━━━━\u001b[0m\u001b[37m\u001b[0m \u001b[1m0s\u001b[0m 10ms/step - attrition_output_accuracy: 0.9986 - attrition_output_loss: 0.0184 - department_output_accuracy: 0.9905 - department_output_loss: 0.0911 - loss: 0.1095 - val_attrition_output_accuracy: 0.8235 - val_attrition_output_loss: 1.2163 - val_department_output_accuracy: 0.6018 - val_department_output_loss: 1.6784 - val_loss: 2.8920\n",
      "Epoch 78/100\n",
      "\u001b[1m28/28\u001b[0m \u001b[32m━━━━━━━━━━━━━━━━━━━━\u001b[0m\u001b[37m\u001b[0m \u001b[1m0s\u001b[0m 9ms/step - attrition_output_accuracy: 0.9954 - attrition_output_loss: 0.0190 - department_output_accuracy: 0.9788 - department_output_loss: 0.1019 - loss: 0.1208 - val_attrition_output_accuracy: 0.8326 - val_attrition_output_loss: 1.1969 - val_department_output_accuracy: 0.6109 - val_department_output_loss: 1.6700 - val_loss: 2.8653\n",
      "Epoch 79/100\n",
      "\u001b[1m28/28\u001b[0m \u001b[32m━━━━━━━━━━━━━━━━━━━━\u001b[0m\u001b[37m\u001b[0m \u001b[1m0s\u001b[0m 10ms/step - attrition_output_accuracy: 0.9983 - attrition_output_loss: 0.0168 - department_output_accuracy: 0.9868 - department_output_loss: 0.0886 - loss: 0.1053 - val_attrition_output_accuracy: 0.8326 - val_attrition_output_loss: 1.2474 - val_department_output_accuracy: 0.6154 - val_department_output_loss: 1.7134 - val_loss: 2.9576\n",
      "Epoch 80/100\n",
      "\u001b[1m28/28\u001b[0m \u001b[32m━━━━━━━━━━━━━━━━━━━━\u001b[0m\u001b[37m\u001b[0m \u001b[1m0s\u001b[0m 9ms/step - attrition_output_accuracy: 0.9967 - attrition_output_loss: 0.0202 - department_output_accuracy: 0.9874 - department_output_loss: 0.0941 - loss: 0.1144 - val_attrition_output_accuracy: 0.8235 - val_attrition_output_loss: 1.2244 - val_department_output_accuracy: 0.5973 - val_department_output_loss: 1.7313 - val_loss: 2.9518\n",
      "Epoch 81/100\n",
      "\u001b[1m28/28\u001b[0m \u001b[32m━━━━━━━━━━━━━━━━━━━━\u001b[0m\u001b[37m\u001b[0m \u001b[1m0s\u001b[0m 10ms/step - attrition_output_accuracy: 0.9987 - attrition_output_loss: 0.0145 - department_output_accuracy: 0.9850 - department_output_loss: 0.0804 - loss: 0.0950 - val_attrition_output_accuracy: 0.8100 - val_attrition_output_loss: 1.2613 - val_department_output_accuracy: 0.6063 - val_department_output_loss: 1.7107 - val_loss: 2.9673\n",
      "Epoch 82/100\n",
      "\u001b[1m28/28\u001b[0m \u001b[32m━━━━━━━━━━━━━━━━━━━━\u001b[0m\u001b[37m\u001b[0m \u001b[1m0s\u001b[0m 10ms/step - attrition_output_accuracy: 0.9997 - attrition_output_loss: 0.0174 - department_output_accuracy: 0.9939 - department_output_loss: 0.0775 - loss: 0.0950 - val_attrition_output_accuracy: 0.8326 - val_attrition_output_loss: 1.2737 - val_department_output_accuracy: 0.6063 - val_department_output_loss: 1.7660 - val_loss: 3.0347\n",
      "Epoch 83/100\n",
      "\u001b[1m28/28\u001b[0m \u001b[32m━━━━━━━━━━━━━━━━━━━━\u001b[0m\u001b[37m\u001b[0m \u001b[1m0s\u001b[0m 9ms/step - attrition_output_accuracy: 0.9990 - attrition_output_loss: 0.0119 - department_output_accuracy: 0.9907 - department_output_loss: 0.0704 - loss: 0.0823 - val_attrition_output_accuracy: 0.8326 - val_attrition_output_loss: 1.2728 - val_department_output_accuracy: 0.6109 - val_department_output_loss: 1.7952 - val_loss: 3.0652\n",
      "Epoch 84/100\n",
      "\u001b[1m28/28\u001b[0m \u001b[32m━━━━━━━━━━━━━━━━━━━━\u001b[0m\u001b[37m\u001b[0m \u001b[1m0s\u001b[0m 8ms/step - attrition_output_accuracy: 0.9971 - attrition_output_loss: 0.0182 - department_output_accuracy: 0.9959 - department_output_loss: 0.0725 - loss: 0.0906 - val_attrition_output_accuracy: 0.8281 - val_attrition_output_loss: 1.3519 - val_department_output_accuracy: 0.5701 - val_department_output_loss: 1.7568 - val_loss: 3.1029\n",
      "Epoch 85/100\n",
      "\u001b[1m28/28\u001b[0m \u001b[32m━━━━━━━━━━━━━━━━━━━━\u001b[0m\u001b[37m\u001b[0m \u001b[1m0s\u001b[0m 9ms/step - attrition_output_accuracy: 0.9976 - attrition_output_loss: 0.0154 - department_output_accuracy: 0.9861 - department_output_loss: 0.0765 - loss: 0.0918 - val_attrition_output_accuracy: 0.8190 - val_attrition_output_loss: 1.3354 - val_department_output_accuracy: 0.5882 - val_department_output_loss: 1.8246 - val_loss: 3.1516\n",
      "Epoch 86/100\n",
      "\u001b[1m28/28\u001b[0m \u001b[32m━━━━━━━━━━━━━━━━━━━━\u001b[0m\u001b[37m\u001b[0m \u001b[1m0s\u001b[0m 9ms/step - attrition_output_accuracy: 0.9976 - attrition_output_loss: 0.0143 - department_output_accuracy: 0.9970 - department_output_loss: 0.0676 - loss: 0.0819 - val_attrition_output_accuracy: 0.8281 - val_attrition_output_loss: 1.3193 - val_department_output_accuracy: 0.6199 - val_department_output_loss: 1.8620 - val_loss: 3.1773\n",
      "Epoch 87/100\n",
      "\u001b[1m28/28\u001b[0m \u001b[32m━━━━━━━━━━━━━━━━━━━━\u001b[0m\u001b[37m\u001b[0m \u001b[1m0s\u001b[0m 9ms/step - attrition_output_accuracy: 0.9917 - attrition_output_loss: 0.0245 - department_output_accuracy: 0.9936 - department_output_loss: 0.0610 - loss: 0.0856 - val_attrition_output_accuracy: 0.8281 - val_attrition_output_loss: 1.3247 - val_department_output_accuracy: 0.5928 - val_department_output_loss: 1.8692 - val_loss: 3.1877\n",
      "Epoch 88/100\n",
      "\u001b[1m28/28\u001b[0m \u001b[32m━━━━━━━━━━━━━━━━━━━━\u001b[0m\u001b[37m\u001b[0m \u001b[1m0s\u001b[0m 9ms/step - attrition_output_accuracy: 0.9978 - attrition_output_loss: 0.0143 - department_output_accuracy: 0.9991 - department_output_loss: 0.0524 - loss: 0.0668 - val_attrition_output_accuracy: 0.8190 - val_attrition_output_loss: 1.3644 - val_department_output_accuracy: 0.6109 - val_department_output_loss: 1.8970 - val_loss: 3.2564\n",
      "Epoch 89/100\n",
      "\u001b[1m28/28\u001b[0m \u001b[32m━━━━━━━━━━━━━━━━━━━━\u001b[0m\u001b[37m\u001b[0m \u001b[1m0s\u001b[0m 10ms/step - attrition_output_accuracy: 0.9994 - attrition_output_loss: 0.0121 - department_output_accuracy: 0.9946 - department_output_loss: 0.0585 - loss: 0.0706 - val_attrition_output_accuracy: 0.8235 - val_attrition_output_loss: 1.3640 - val_department_output_accuracy: 0.6154 - val_department_output_loss: 1.9167 - val_loss: 3.2754\n",
      "Epoch 90/100\n",
      "\u001b[1m28/28\u001b[0m \u001b[32m━━━━━━━━━━━━━━━━━━━━\u001b[0m\u001b[37m\u001b[0m \u001b[1m0s\u001b[0m 10ms/step - attrition_output_accuracy: 0.9995 - attrition_output_loss: 0.0107 - department_output_accuracy: 0.9966 - department_output_loss: 0.0502 - loss: 0.0609 - val_attrition_output_accuracy: 0.8371 - val_attrition_output_loss: 1.3630 - val_department_output_accuracy: 0.5882 - val_department_output_loss: 1.9326 - val_loss: 3.2898\n",
      "Epoch 91/100\n",
      "\u001b[1m28/28\u001b[0m \u001b[32m━━━━━━━━━━━━━━━━━━━━\u001b[0m\u001b[37m\u001b[0m \u001b[1m0s\u001b[0m 10ms/step - attrition_output_accuracy: 0.9957 - attrition_output_loss: 0.0135 - department_output_accuracy: 0.9925 - department_output_loss: 0.0541 - loss: 0.0676 - val_attrition_output_accuracy: 0.8281 - val_attrition_output_loss: 1.3802 - val_department_output_accuracy: 0.6063 - val_department_output_loss: 1.9244 - val_loss: 3.2992\n",
      "Epoch 92/100\n",
      "\u001b[1m28/28\u001b[0m \u001b[32m━━━━━━━━━━━━━━━━━━━━\u001b[0m\u001b[37m\u001b[0m \u001b[1m0s\u001b[0m 10ms/step - attrition_output_accuracy: 0.9984 - attrition_output_loss: 0.0116 - department_output_accuracy: 0.9997 - department_output_loss: 0.0438 - loss: 0.0555 - val_attrition_output_accuracy: 0.8190 - val_attrition_output_loss: 1.3852 - val_department_output_accuracy: 0.5928 - val_department_output_loss: 1.9765 - val_loss: 3.3568\n",
      "Epoch 93/100\n",
      "\u001b[1m28/28\u001b[0m \u001b[32m━━━━━━━━━━━━━━━━━━━━\u001b[0m\u001b[37m\u001b[0m \u001b[1m0s\u001b[0m 9ms/step - attrition_output_accuracy: 0.9975 - attrition_output_loss: 0.0100 - department_output_accuracy: 0.9980 - department_output_loss: 0.0475 - loss: 0.0575 - val_attrition_output_accuracy: 0.8281 - val_attrition_output_loss: 1.4314 - val_department_output_accuracy: 0.6154 - val_department_output_loss: 2.0183 - val_loss: 3.4460\n",
      "Epoch 94/100\n",
      "\u001b[1m28/28\u001b[0m \u001b[32m━━━━━━━━━━━━━━━━━━━━\u001b[0m\u001b[37m\u001b[0m \u001b[1m0s\u001b[0m 10ms/step - attrition_output_accuracy: 0.9936 - attrition_output_loss: 0.0135 - department_output_accuracy: 0.9997 - department_output_loss: 0.0462 - loss: 0.0597 - val_attrition_output_accuracy: 0.8281 - val_attrition_output_loss: 1.4533 - val_department_output_accuracy: 0.6154 - val_department_output_loss: 2.1010 - val_loss: 3.5527\n",
      "Epoch 95/100\n",
      "\u001b[1m28/28\u001b[0m \u001b[32m━━━━━━━━━━━━━━━━━━━━\u001b[0m\u001b[37m\u001b[0m \u001b[1m0s\u001b[0m 9ms/step - attrition_output_accuracy: 0.9966 - attrition_output_loss: 0.0107 - department_output_accuracy: 0.9973 - department_output_loss: 0.0476 - loss: 0.0583 - val_attrition_output_accuracy: 0.8190 - val_attrition_output_loss: 1.4259 - val_department_output_accuracy: 0.5973 - val_department_output_loss: 2.0197 - val_loss: 3.4392\n",
      "Epoch 96/100\n",
      "\u001b[1m28/28\u001b[0m \u001b[32m━━━━━━━━━━━━━━━━━━━━\u001b[0m\u001b[37m\u001b[0m \u001b[1m0s\u001b[0m 10ms/step - attrition_output_accuracy: 0.9944 - attrition_output_loss: 0.0125 - department_output_accuracy: 0.9994 - department_output_loss: 0.0387 - loss: 0.0512 - val_attrition_output_accuracy: 0.8371 - val_attrition_output_loss: 1.4363 - val_department_output_accuracy: 0.5973 - val_department_output_loss: 2.0242 - val_loss: 3.4552\n",
      "Epoch 97/100\n",
      "\u001b[1m28/28\u001b[0m \u001b[32m━━━━━━━━━━━━━━━━━━━━\u001b[0m\u001b[37m\u001b[0m \u001b[1m0s\u001b[0m 9ms/step - attrition_output_accuracy: 0.9979 - attrition_output_loss: 0.0103 - department_output_accuracy: 0.9986 - department_output_loss: 0.0419 - loss: 0.0521 - val_attrition_output_accuracy: 0.8100 - val_attrition_output_loss: 1.4947 - val_department_output_accuracy: 0.6109 - val_department_output_loss: 2.0652 - val_loss: 3.5552\n",
      "Epoch 98/100\n",
      "\u001b[1m28/28\u001b[0m \u001b[32m━━━━━━━━━━━━━━━━━━━━\u001b[0m\u001b[37m\u001b[0m \u001b[1m0s\u001b[0m 10ms/step - attrition_output_accuracy: 0.9998 - attrition_output_loss: 0.0062 - department_output_accuracy: 0.9987 - department_output_loss: 0.0384 - loss: 0.0446 - val_attrition_output_accuracy: 0.8326 - val_attrition_output_loss: 1.4844 - val_department_output_accuracy: 0.6109 - val_department_output_loss: 2.1283 - val_loss: 3.6088\n",
      "Epoch 99/100\n",
      "\u001b[1m28/28\u001b[0m \u001b[32m━━━━━━━━━━━━━━━━━━━━\u001b[0m\u001b[37m\u001b[0m \u001b[1m0s\u001b[0m 8ms/step - attrition_output_accuracy: 0.9983 - attrition_output_loss: 0.0103 - department_output_accuracy: 0.9982 - department_output_loss: 0.0371 - loss: 0.0473 - val_attrition_output_accuracy: 0.8371 - val_attrition_output_loss: 1.5773 - val_department_output_accuracy: 0.5973 - val_department_output_loss: 2.1298 - val_loss: 3.7017\n",
      "Epoch 100/100\n",
      "\u001b[1m28/28\u001b[0m \u001b[32m━━━━━━━━━━━━━━━━━━━━\u001b[0m\u001b[37m\u001b[0m \u001b[1m0s\u001b[0m 9ms/step - attrition_output_accuracy: 0.9977 - attrition_output_loss: 0.0120 - department_output_accuracy: 0.9981 - department_output_loss: 0.0380 - loss: 0.0500 - val_attrition_output_accuracy: 0.8054 - val_attrition_output_loss: 1.5162 - val_department_output_accuracy: 0.6109 - val_department_output_loss: 2.1654 - val_loss: 3.6765\n"
     ]
    },
    {
     "data": {
      "text/plain": [
       "<keras.src.callbacks.history.History at 0x19f83f63280>"
      ]
     },
     "execution_count": 52,
     "metadata": {},
     "output_type": "execute_result"
    }
   ],
   "source": [
    "# Train the model\n",
    "nn_model.fit(X_train_scaled, {'department_output' : y_department_train,\n",
    "                    'attrition_output' : y_attrition_train},\n",
    "                    epochs=100,\n",
    "                    batch_size=32,\n",
    "                    validation_split=0.2)"
   ]
  },
  {
   "cell_type": "code",
   "execution_count": 73,
   "metadata": {
    "colab": {
     "base_uri": "https://localhost:8080/"
    },
    "executionInfo": {
     "elapsed": 379,
     "status": "ok",
     "timestamp": 1730699259894,
     "user": {
      "displayName": "Alexander Booth",
      "userId": "02269714993535573104"
     },
     "user_tz": 360
    },
    "id": "VsMoaQlgGc3U",
    "outputId": "636c85ba-ee63-4087-b7d1-00b408f1055a"
   },
   "outputs": [
    {
     "name": "stdout",
     "output_type": "stream",
     "text": [
      "\u001b[1m12/12\u001b[0m \u001b[32m━━━━━━━━━━━━━━━━━━━━\u001b[0m\u001b[37m\u001b[0m \u001b[1m0s\u001b[0m 3ms/step - attrition_output_accuracy: 0.8333 - attrition_output_loss: 1.6157 - department_output_accuracy: 0.5641 - department_output_loss: 2.0985 - loss: 3.7269 \n"
     ]
    },
    {
     "data": {
      "text/plain": [
       "[3.885582685470581,\n",
       " 1.5405950546264648,\n",
       " 2.2625410556793213,\n",
       " 0.8260869383811951,\n",
       " 0.5570651888847351]"
      ]
     },
     "execution_count": 73,
     "metadata": {},
     "output_type": "execute_result"
    }
   ],
   "source": [
    "# Evaluate the model with the testing data\n",
    "test_result = nn_model.evaluate(X_test_scaled, {'department_output' : y_department_test,\n",
    "                                                'attrition_output' : y_attrition_test})\n",
    "test_result"
   ]
  },
  {
   "cell_type": "code",
   "execution_count": 74,
   "metadata": {},
   "outputs": [
    {
     "name": "stdout",
     "output_type": "stream",
     "text": [
      "Attrition output accuracy: 0.8260869383811951\n",
      "Department output accuracy: 0.5570651888847351\n"
     ]
    }
   ],
   "source": [
    "# Print the model evaluation scores.\n",
    "print(f'Attrition output accuracy: {test_result[3]}')\n",
    "print(f'Department output accuracy: {test_result[4]}')"
   ]
  },
  {
   "cell_type": "markdown",
   "metadata": {
    "id": "eGSyfsZfWOQM"
   },
   "source": [
    "# Summary\n",
    "\n",
    "In the provided space below, briefly answer the following questions.\n",
    "\n",
    "1. Is accuracy the best metric to use on this data? Why or why not?\n",
    "\n",
    "2. What activation functions did you choose for your output layers, and why?\n",
    "\n",
    "3. Can you name a few ways that this model might be improved?"
   ]
  },
  {
   "cell_type": "markdown",
   "metadata": {
    "id": "pi9SLpFnWvbF"
   },
   "source": [
    "YOUR ANSWERS HERE\n",
    "\n",
    "1. In my opinion, I think it would not be very ideal because there is the possibility of false positives and false negatives which our accuracy metric does not distinguish between.\n",
    "\n",
    "2. For the department, I used the softmax activation function while for the attrition, I used the sigmoid activation function. I used softmax because I was trying to predict whether some employees may be better suited to other departments, which is a multi-class classification and therefore, we are indicating the suitability of the employees in the multiple different departments.\n",
    "For the attrition, I used the sigmoid function because I was dealing with a binary classification issue, whereby I am trying to predict whether they will leave or not, hence the sigmoid function which is ideal in classifying binary scenarios.\n",
    "\n",
    "3. To improve this model, we could create/include new features which may provide additional insights or relationships in our data. We could also augment the data to have a bigger training data sets for more refined results. In terms of the accuracy metrics, we could try other models evaluation metrics such as precision, F1-score, or recall to provide more insights to the model's performance to ensure they account for the distribution of classes in the case of imbalanced datasets."
   ]
  },
  {
   "cell_type": "code",
   "execution_count": null,
   "metadata": {
    "executionInfo": {
     "elapsed": 3,
     "status": "ok",
     "timestamp": 1730699260004,
     "user": {
      "displayName": "Alexander Booth",
      "userId": "02269714993535573104"
     },
     "user_tz": 360
    },
    "id": "ZuQWjGgGXZ3C"
   },
   "outputs": [],
   "source": []
  }
 ],
 "metadata": {
  "colab": {
   "provenance": []
  },
  "kernelspec": {
   "display_name": "dev",
   "language": "python",
   "name": "python3"
  },
  "language_info": {
   "codemirror_mode": {
    "name": "ipython",
    "version": 3
   },
   "file_extension": ".py",
   "mimetype": "text/x-python",
   "name": "python",
   "nbconvert_exporter": "python",
   "pygments_lexer": "ipython3",
   "version": "3.10.15"
  }
 },
 "nbformat": 4,
 "nbformat_minor": 0
}
